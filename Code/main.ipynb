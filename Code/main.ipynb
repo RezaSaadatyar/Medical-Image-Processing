{
 "cells": [
  {
   "cell_type": "markdown",
   "metadata": {},
   "source": [
    "***Welcome to Medical image processing in Python***<br/>\n",
    "\n",
    "Presented by: Reza Saadatyar (2024-2025) <br/>\n",
    "E-mail: Reza.Saadatyar@outlook.com "
   ]
  },
  {
   "cell_type": "markdown",
   "metadata": {},
   "source": [
    "**Import the require library**"
   ]
  },
  {
   "cell_type": "code",
   "execution_count": 15,
   "metadata": {},
   "outputs": [],
   "source": [
    "import os\n",
    "import sys\n",
    "import glob\n",
    "import random\n",
    "import numpy as np\n",
    "from tqdm import tqdm\n",
    "from PIL import Image\n",
    "from Functions import Data_path\n",
    "import matplotlib.pyplot as plt\n",
    "from keras.preprocessing import image\n",
    "from skimage.transform import resize\n",
    "from skimage import io\n",
    "# from skimage.viewer import ImageViewer\n",
    "# from OOP import Pre_Processing_R2g"
   ]
  },
  {
   "cell_type": "markdown",
   "metadata": {},
   "source": [
    "**1. Set Image Path & Load data**"
   ]
  },
  {
   "cell_type": "code",
   "execution_count": 8,
   "metadata": {},
   "outputs": [],
   "source": [
    "folder_path = \"D:/Medical-Image-Processing/Data/Inputs_Train\"\n",
    "path_files, files, folders = Data_path.data_path(folder_path, data_format=\"tif\") "
   ]
  },
  {
   "cell_type": "markdown",
   "metadata": {},
   "source": [
    "Image-Width: n<br/>\n",
    "Image-Height: m<br/>\n",
    "hannels: c<br/>\n",
    "Planes: p<br/>\n",
    "Grayscale:(p, m, n)<br/>\n",
    "RGB: (p, m, n, c)<br/>"
   ]
  },
  {
   "cell_type": "code",
   "execution_count": 19,
   "metadata": {},
   "outputs": [],
   "source": [
    "IMG_HEIGHT = 768\n",
    "IMG_WIDTH = 896\n",
    "IMG_CHANNELS = 3\n",
    "Inputs = np.zeros((58, IMG_HEIGHT, IMG_WIDTH, IMG_CHANNELS), dtype = np.uint8)   # 58*768*896*3\n",
    "Ground_Truth = np.zeros((58, IMG_HEIGHT, IMG_WIDTH, 2), dtype = bool) #58*768*896*2"
   ]
  },
  {
   "cell_type": "code",
   "execution_count": null,
   "metadata": {},
   "outputs": [],
   "source": [
    "imread(IMAGE_MASK_PATH + 'ytma10_010704_benign1.TIF')\n",
    "    "
   ]
  },
  {
   "cell_type": "code",
   "execution_count": null,
   "metadata": {},
   "outputs": [],
   "source": [
    "for n, f in tqdm(enumerate(IMG_Dataset), total = len(IMG_Dataset)):\n",
    "    Images = imread (IMAGE_PATH + f)[:,:,:IMG_CHANNELS]"
   ]
  }
 ],
 "metadata": {
  "kernelspec": {
   "display_name": "Python 3",
   "language": "python",
   "name": "python3"
  },
  "language_info": {
   "codemirror_mode": {
    "name": "ipython",
    "version": 3
   },
   "file_extension": ".py",
   "mimetype": "text/x-python",
   "name": "python",
   "nbconvert_exporter": "python",
   "pygments_lexer": "ipython3",
   "version": "3.12.4"
  }
 },
 "nbformat": 4,
 "nbformat_minor": 2
}
