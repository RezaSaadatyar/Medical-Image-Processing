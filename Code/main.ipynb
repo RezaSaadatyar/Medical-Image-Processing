{
 "cells": [
  {
   "cell_type": "markdown",
   "metadata": {},
   "source": [
    "***Welcome to Medical image processing in Python***<br/>\n",
    "\n",
    "Presented by: Reza Saadatyar (2024-2025) <br/>\n",
    "E-mail: Reza.Saadatyar@outlook.com "
   ]
  },
  {
   "cell_type": "markdown",
   "metadata": {},
   "source": [
    "**Import the require library**"
   ]
  },
  {
   "cell_type": "code",
   "execution_count": 1,
   "metadata": {},
   "outputs": [],
   "source": [
    "import os\n",
    "import sys\n",
    "import glob\n",
    "import random\n",
    "import numpy as np\n",
    "from tqdm import tqdm\n",
    "from PIL import Image\n",
    "from Functions import Data_path\n",
    "import matplotlib.pyplot as plt\n",
    "from keras import preprocessing\n",
    "from skimage import transform\n",
    "from skimage import io\n",
    "# from skimage.viewer import ImageViewer\n",
    "# from OOP import Pre_Processing_R2g"
   ]
  },
  {
   "cell_type": "markdown",
   "metadata": {},
   "source": [
    "**1. Set Image Path & Load data**"
   ]
  },
  {
   "cell_type": "code",
   "execution_count": 21,
   "metadata": {},
   "outputs": [],
   "source": [
    "folder_path = \"D:/Medical-Image-Processing/Data/Inputs_Train\"\n",
    "path_files, files, folders = Data_path.data_path(folder_path, data_format=\"tif\") "
   ]
  },
  {
   "cell_type": "markdown",
   "metadata": {},
   "source": [
    "*Image-Width: n*<br/>\n",
    "*Image-Height: m*<br/>\n",
    "*Hannels: c*<br/>\n",
    "*Planes: p*<br/>\n",
    "*Grayscale: (p, m, n)*<br/>\n",
    "*RGB: (p, m, n, c)*<br/>"
   ]
  },
  {
   "cell_type": "code",
   "execution_count": 23,
   "metadata": {},
   "outputs": [
    {
     "data": {
      "text/plain": [
       "['D:/Medical-Image-Processing/Data/Inputs_Train\\\\11\\\\22\\\\33\\\\ytma10_010704_benign1_ccd.tif',\n",
       " 'D:/Medical-Image-Processing/Data/Inputs_Train\\\\11\\\\22\\\\33\\\\ytma10_010704_benign2_ccd.tif',\n",
       " 'D:/Medical-Image-Processing/Data/Inputs_Train\\\\11\\\\22\\\\ytma10_010704_benign3_ccd.tif',\n",
       " 'D:/Medical-Image-Processing/Data/Inputs_Train\\\\11\\\\22\\\\ytma10_010704_malignant1_ccd.tif',\n",
       " 'D:/Medical-Image-Processing/Data/Inputs_Train\\\\11\\\\ytma10_010704_malignant2_ccd.tif',\n",
       " 'D:/Medical-Image-Processing/Data/Inputs_Train\\\\11\\\\ytma12_010804_benign1_ccd.tif',\n",
       " 'D:/Medical-Image-Processing/Data/Inputs_Train\\\\ytma10_010704_malignant3_ccd.tif',\n",
       " 'D:/Medical-Image-Processing/Data/Inputs_Train\\\\ytma12_010804_benign2_ccd.tif',\n",
       " 'D:/Medical-Image-Processing/Data/Inputs_Train\\\\ytma12_010804_benign3_ccd.tif',\n",
       " 'D:/Medical-Image-Processing/Data/Inputs_Train\\\\ytma12_010804_malignant1_ccd.tif',\n",
       " 'D:/Medical-Image-Processing/Data/Inputs_Train\\\\ytma12_010804_malignant2_ccd.tif',\n",
       " 'D:/Medical-Image-Processing/Data/Inputs_Train\\\\ytma12_010804_malignant3_ccd.tif',\n",
       " 'D:/Medical-Image-Processing/Data/Inputs_Train\\\\ytma23_022103_benign1_ccd.tif',\n",
       " 'D:/Medical-Image-Processing/Data/Inputs_Train\\\\ytma23_022103_benign2_ccd.tif',\n",
       " 'D:/Medical-Image-Processing/Data/Inputs_Train\\\\ytma23_022103_benign3_ccd.tif',\n",
       " 'D:/Medical-Image-Processing/Data/Inputs_Train\\\\ytma23_022103_malignant1_ccd.tif',\n",
       " 'D:/Medical-Image-Processing/Data/Inputs_Train\\\\ytma23_022103_malignant2_ccd.tif',\n",
       " 'D:/Medical-Image-Processing/Data/Inputs_Train\\\\ytma23_022103_malignant3_ccd.tif',\n",
       " 'D:/Medical-Image-Processing/Data/Inputs_Train\\\\ytma49_042003_benign1_ccd.tif',\n",
       " 'D:/Medical-Image-Processing/Data/Inputs_Train\\\\ytma49_042003_benign2_ccd.tif',\n",
       " 'D:/Medical-Image-Processing/Data/Inputs_Train\\\\ytma49_042003_benign3_ccd.tif',\n",
       " 'D:/Medical-Image-Processing/Data/Inputs_Train\\\\ytma49_042003_malignant1_ccd.tif',\n",
       " 'D:/Medical-Image-Processing/Data/Inputs_Train\\\\ytma49_042003_malignant2_ccd.tif',\n",
       " 'D:/Medical-Image-Processing/Data/Inputs_Train\\\\ytma49_042003_malignant3_ccd.tif',\n",
       " 'D:/Medical-Image-Processing/Data/Inputs_Train\\\\ytma49_042203_benign1_ccd.tif',\n",
       " 'D:/Medical-Image-Processing/Data/Inputs_Train\\\\ytma49_042203_benign2_ccd.tif',\n",
       " 'D:/Medical-Image-Processing/Data/Inputs_Train\\\\ytma49_042203_benign3_ccd.tif',\n",
       " 'D:/Medical-Image-Processing/Data/Inputs_Train\\\\ytma49_042203_malignant1_ccd.tif',\n",
       " 'D:/Medical-Image-Processing/Data/Inputs_Train\\\\ytma49_042203_malignant2_ccd.tif',\n",
       " 'D:/Medical-Image-Processing/Data/Inputs_Train\\\\ytma49_042203_malignant3_ccd.tif',\n",
       " 'D:/Medical-Image-Processing/Data/Inputs_Train\\\\ytma49_042403_benign1_ccd.tif',\n",
       " 'D:/Medical-Image-Processing/Data/Inputs_Train\\\\ytma49_042403_benign2_ccd.tif',\n",
       " 'D:/Medical-Image-Processing/Data/Inputs_Train\\\\ytma49_042403_benign3_ccd.tif',\n",
       " 'D:/Medical-Image-Processing/Data/Inputs_Train\\\\ytma49_042403_malignant1_ccd.tif',\n",
       " 'D:/Medical-Image-Processing/Data/Inputs_Train\\\\ytma49_042403_malignant2_ccd.tif',\n",
       " 'D:/Medical-Image-Processing/Data/Inputs_Train\\\\ytma49_042403_malignant3_ccd.tif',\n",
       " 'D:/Medical-Image-Processing/Data/Inputs_Train\\\\ytma49_072303_benign1_ccd.tif',\n",
       " 'D:/Medical-Image-Processing/Data/Inputs_Train\\\\ytma49_072303_benign2_ccd.tif',\n",
       " 'D:/Medical-Image-Processing/Data/Inputs_Train\\\\ytma49_072303_malignant1_ccd.tif',\n",
       " 'D:/Medical-Image-Processing/Data/Inputs_Train\\\\ytma49_072303_malignant2_ccd.tif',\n",
       " 'D:/Medical-Image-Processing/Data/Inputs_Train\\\\ytma49_111003_benign1_ccd.tif',\n",
       " 'D:/Medical-Image-Processing/Data/Inputs_Train\\\\ytma49_111003_benign2_ccd.tif',\n",
       " 'D:/Medical-Image-Processing/Data/Inputs_Train\\\\ytma49_111003_benign3_ccd.tif',\n",
       " 'D:/Medical-Image-Processing/Data/Inputs_Train\\\\ytma49_111003_malignant1_ccd.tif',\n",
       " 'D:/Medical-Image-Processing/Data/Inputs_Train\\\\ytma49_111003_malignant2_ccd.tif',\n",
       " 'D:/Medical-Image-Processing/Data/Inputs_Train\\\\ytma49_111003_malignant3_ccd.tif',\n",
       " 'D:/Medical-Image-Processing/Data/Inputs_Train\\\\ytma49_111303_benign1_ccd.tif',\n",
       " 'D:/Medical-Image-Processing/Data/Inputs_Train\\\\ytma49_111303_benign2_ccd.tif',\n",
       " 'D:/Medical-Image-Processing/Data/Inputs_Train\\\\ytma49_111303_benign3_ccd.tif',\n",
       " 'D:/Medical-Image-Processing/Data/Inputs_Train\\\\ytma49_111303_malignant1_ccd.tif',\n",
       " 'D:/Medical-Image-Processing/Data/Inputs_Train\\\\ytma49_111303_malignant2_ccd.tif',\n",
       " 'D:/Medical-Image-Processing/Data/Inputs_Train\\\\ytma49_111303_malignant3_ccd.tif',\n",
       " 'D:/Medical-Image-Processing/Data/Inputs_Train\\\\ytma55_030603_benign1_ccd.tif',\n",
       " 'D:/Medical-Image-Processing/Data/Inputs_Train\\\\ytma55_030603_benign2_ccd.tif',\n",
       " 'D:/Medical-Image-Processing/Data/Inputs_Train\\\\ytma55_030603_benign3_ccd.tif',\n",
       " 'D:/Medical-Image-Processing/Data/Inputs_Train\\\\ytma55_030603_benign4_ccd.tif']"
      ]
     },
     "execution_count": 23,
     "metadata": {},
     "output_type": "execute_result"
    }
   ],
   "source": [
    "path_files"
   ]
  },
  {
   "cell_type": "code",
   "execution_count": 22,
   "metadata": {},
   "outputs": [],
   "source": [
    "IMG_HEIGHT = 768\n",
    "IMG_WIDTH = 896\n",
    "IMG_CHANNELS = 3\n",
    "Inputs = np.zeros((56, IMG_HEIGHT, IMG_WIDTH, IMG_CHANNELS), dtype = np.uint8)   # 56*768*896*3\n",
    "Ground_Truth = np.zeros((56, IMG_HEIGHT, IMG_WIDTH, 2), dtype = bool)            # 56*768*896*2"
   ]
  },
  {
   "cell_type": "code",
   "execution_count": 24,
   "metadata": {},
   "outputs": [
    {
     "ename": "FileNotFoundError",
     "evalue": "[Errno 2] No such file or directory: 'D:\\\\Medical-Image-Processing\\\\Data\\\\Inputs_Train\\\\11\\\\22\\\\33\\\\ytma10_010704_benign1_ccd.tif'",
     "output_type": "error",
     "traceback": [
      "\u001b[1;31m---------------------------------------------------------------------------\u001b[0m",
      "\u001b[1;31mFileNotFoundError\u001b[0m                         Traceback (most recent call last)",
      "\u001b[1;32m~\\AppData\\Local\\Temp\\ipykernel_15272\\2631185152.py\u001b[0m in \u001b[0;36m?\u001b[1;34m()\u001b[0m\n\u001b[1;32m----> 1\u001b[1;33m \u001b[0mio\u001b[0m\u001b[1;33m.\u001b[0m\u001b[0mimread\u001b[0m\u001b[1;33m(\u001b[0m\u001b[0mpath_files\u001b[0m\u001b[1;33m[\u001b[0m\u001b[1;36m0\u001b[0m\u001b[1;33m]\u001b[0m\u001b[1;33m)\u001b[0m\u001b[1;33m\u001b[0m\u001b[1;33m\u001b[0m\u001b[0m\n\u001b[0m\u001b[0;32m      2\u001b[0m \u001b[1;33m\u001b[0m\u001b[0m\n",
      "\u001b[1;32mc:\\Users\\RezaS\\AppData\\Local\\Programs\\Python\\Python312\\Lib\\site-packages\\skimage\\io\\_io.py\u001b[0m in \u001b[0;36m?\u001b[1;34m(fname, as_gray, plugin, **plugin_args)\u001b[0m\n\u001b[0;32m     56\u001b[0m         \u001b[1;32mif\u001b[0m \u001b[0mfname\u001b[0m\u001b[1;33m.\u001b[0m\u001b[0mlower\u001b[0m\u001b[1;33m(\u001b[0m\u001b[1;33m)\u001b[0m\u001b[1;33m.\u001b[0m\u001b[0mendswith\u001b[0m\u001b[1;33m(\u001b[0m\u001b[1;33m(\u001b[0m\u001b[1;34m'.tiff'\u001b[0m\u001b[1;33m,\u001b[0m \u001b[1;34m'.tif'\u001b[0m\u001b[1;33m)\u001b[0m\u001b[1;33m)\u001b[0m\u001b[1;33m:\u001b[0m\u001b[1;33m\u001b[0m\u001b[1;33m\u001b[0m\u001b[0m\n\u001b[0;32m     57\u001b[0m             \u001b[0mplugin\u001b[0m \u001b[1;33m=\u001b[0m \u001b[1;34m'tifffile'\u001b[0m\u001b[1;33m\u001b[0m\u001b[1;33m\u001b[0m\u001b[0m\n\u001b[0;32m     58\u001b[0m \u001b[1;33m\u001b[0m\u001b[0m\n\u001b[0;32m     59\u001b[0m     \u001b[1;32mwith\u001b[0m \u001b[0mfile_or_url_context\u001b[0m\u001b[1;33m(\u001b[0m\u001b[0mfname\u001b[0m\u001b[1;33m)\u001b[0m \u001b[1;32mas\u001b[0m \u001b[0mfname\u001b[0m\u001b[1;33m:\u001b[0m\u001b[1;33m\u001b[0m\u001b[1;33m\u001b[0m\u001b[0m\n\u001b[1;32m---> 60\u001b[1;33m         \u001b[0mimg\u001b[0m \u001b[1;33m=\u001b[0m \u001b[0mcall_plugin\u001b[0m\u001b[1;33m(\u001b[0m\u001b[1;34m'imread'\u001b[0m\u001b[1;33m,\u001b[0m \u001b[0mfname\u001b[0m\u001b[1;33m,\u001b[0m \u001b[0mplugin\u001b[0m\u001b[1;33m=\u001b[0m\u001b[0mplugin\u001b[0m\u001b[1;33m,\u001b[0m \u001b[1;33m**\u001b[0m\u001b[0mplugin_args\u001b[0m\u001b[1;33m)\u001b[0m\u001b[1;33m\u001b[0m\u001b[1;33m\u001b[0m\u001b[0m\n\u001b[0m\u001b[0;32m     61\u001b[0m \u001b[1;33m\u001b[0m\u001b[0m\n\u001b[0;32m     62\u001b[0m     \u001b[1;32mif\u001b[0m \u001b[1;32mnot\u001b[0m \u001b[0mhasattr\u001b[0m\u001b[1;33m(\u001b[0m\u001b[0mimg\u001b[0m\u001b[1;33m,\u001b[0m \u001b[1;34m'ndim'\u001b[0m\u001b[1;33m)\u001b[0m\u001b[1;33m:\u001b[0m\u001b[1;33m\u001b[0m\u001b[1;33m\u001b[0m\u001b[0m\n\u001b[0;32m     63\u001b[0m         \u001b[1;32mreturn\u001b[0m \u001b[0mimg\u001b[0m\u001b[1;33m\u001b[0m\u001b[1;33m\u001b[0m\u001b[0m\n",
      "\u001b[1;32mc:\\Users\\RezaS\\AppData\\Local\\Programs\\Python\\Python312\\Lib\\site-packages\\skimage\\io\\manage_plugins.py\u001b[0m in \u001b[0;36m?\u001b[1;34m(kind, *args, **kwargs)\u001b[0m\n\u001b[0;32m    213\u001b[0m             \u001b[0mfunc\u001b[0m \u001b[1;33m=\u001b[0m \u001b[1;33m[\u001b[0m\u001b[0mf\u001b[0m \u001b[1;32mfor\u001b[0m \u001b[1;33m(\u001b[0m\u001b[0mp\u001b[0m\u001b[1;33m,\u001b[0m \u001b[0mf\u001b[0m\u001b[1;33m)\u001b[0m \u001b[1;32min\u001b[0m \u001b[0mplugin_funcs\u001b[0m \u001b[1;32mif\u001b[0m \u001b[0mp\u001b[0m \u001b[1;33m==\u001b[0m \u001b[0mplugin\u001b[0m\u001b[1;33m]\u001b[0m\u001b[1;33m[\u001b[0m\u001b[1;36m0\u001b[0m\u001b[1;33m]\u001b[0m\u001b[1;33m\u001b[0m\u001b[1;33m\u001b[0m\u001b[0m\n\u001b[0;32m    214\u001b[0m         \u001b[1;32mexcept\u001b[0m \u001b[0mIndexError\u001b[0m\u001b[1;33m:\u001b[0m\u001b[1;33m\u001b[0m\u001b[1;33m\u001b[0m\u001b[0m\n\u001b[0;32m    215\u001b[0m             \u001b[1;32mraise\u001b[0m \u001b[0mRuntimeError\u001b[0m\u001b[1;33m(\u001b[0m\u001b[1;33mf'\u001b[0m\u001b[1;33mCould not find the plugin \"\u001b[0m\u001b[1;33m{\u001b[0m\u001b[0mplugin\u001b[0m\u001b[1;33m}\u001b[0m\u001b[1;33m\" for \u001b[0m\u001b[1;33m{\u001b[0m\u001b[0mkind\u001b[0m\u001b[1;33m}\u001b[0m\u001b[1;33m.\u001b[0m\u001b[1;33m'\u001b[0m\u001b[1;33m)\u001b[0m\u001b[1;33m\u001b[0m\u001b[1;33m\u001b[0m\u001b[0m\n\u001b[0;32m    216\u001b[0m \u001b[1;33m\u001b[0m\u001b[0m\n\u001b[1;32m--> 217\u001b[1;33m     \u001b[1;32mreturn\u001b[0m \u001b[0mfunc\u001b[0m\u001b[1;33m(\u001b[0m\u001b[1;33m*\u001b[0m\u001b[0margs\u001b[0m\u001b[1;33m,\u001b[0m \u001b[1;33m**\u001b[0m\u001b[0mkwargs\u001b[0m\u001b[1;33m)\u001b[0m\u001b[1;33m\u001b[0m\u001b[1;33m\u001b[0m\u001b[0m\n\u001b[0m",
      "\u001b[1;32mc:\\Users\\RezaS\\AppData\\Local\\Programs\\Python\\Python312\\Lib\\site-packages\\skimage\\io\\_plugins\\tifffile_plugin.py\u001b[0m in \u001b[0;36m?\u001b[1;34m(fname, **kwargs)\u001b[0m\n\u001b[0;32m     70\u001b[0m     \"\"\"\n\u001b[0;32m     71\u001b[0m     \u001b[1;32mif\u001b[0m \u001b[1;34m'img_num'\u001b[0m \u001b[1;32min\u001b[0m \u001b[0mkwargs\u001b[0m\u001b[1;33m:\u001b[0m\u001b[1;33m\u001b[0m\u001b[1;33m\u001b[0m\u001b[0m\n\u001b[0;32m     72\u001b[0m         \u001b[0mkwargs\u001b[0m\u001b[1;33m[\u001b[0m\u001b[1;34m'key'\u001b[0m\u001b[1;33m]\u001b[0m \u001b[1;33m=\u001b[0m \u001b[0mkwargs\u001b[0m\u001b[1;33m.\u001b[0m\u001b[0mpop\u001b[0m\u001b[1;33m(\u001b[0m\u001b[1;34m'img_num'\u001b[0m\u001b[1;33m)\u001b[0m\u001b[1;33m\u001b[0m\u001b[1;33m\u001b[0m\u001b[0m\n\u001b[0;32m     73\u001b[0m \u001b[1;33m\u001b[0m\u001b[0m\n\u001b[1;32m---> 74\u001b[1;33m     \u001b[1;32mreturn\u001b[0m \u001b[0mtifffile_imread\u001b[0m\u001b[1;33m(\u001b[0m\u001b[0mfname\u001b[0m\u001b[1;33m,\u001b[0m \u001b[1;33m**\u001b[0m\u001b[0mkwargs\u001b[0m\u001b[1;33m)\u001b[0m\u001b[1;33m\u001b[0m\u001b[1;33m\u001b[0m\u001b[0m\n\u001b[0m",
      "\u001b[1;32mc:\\Users\\RezaS\\AppData\\Local\\Programs\\Python\\Python312\\Lib\\site-packages\\tifffile\\tifffile.py\u001b[0m in \u001b[0;36m?\u001b[1;34m(***failed resolving arguments***)\u001b[0m\n\u001b[0;32m   1241\u001b[0m \u001b[1;33m\u001b[0m\u001b[0m\n\u001b[0;32m   1242\u001b[0m         if isinstance(files, str) or not isinstance(\n\u001b[0;32m   1243\u001b[0m             \u001b[0mfiles\u001b[0m\u001b[1;33m,\u001b[0m \u001b[0mcollections\u001b[0m\u001b[1;33m.\u001b[0m\u001b[0mabc\u001b[0m\u001b[1;33m.\u001b[0m\u001b[0mSequence\u001b[0m\u001b[1;33m\u001b[0m\u001b[1;33m\u001b[0m\u001b[0m\n\u001b[0;32m   1244\u001b[0m         \u001b[1;33m)\u001b[0m\u001b[1;33m:\u001b[0m\u001b[1;33m\u001b[0m\u001b[1;33m\u001b[0m\u001b[0m\n\u001b[1;32m-> 1245\u001b[1;33m             with TiffFile(\n\u001b[0m\u001b[0;32m   1246\u001b[0m                 \u001b[0mfiles\u001b[0m\u001b[1;33m,\u001b[0m\u001b[1;33m\u001b[0m\u001b[1;33m\u001b[0m\u001b[0m\n\u001b[0;32m   1247\u001b[0m                 \u001b[0mmode\u001b[0m\u001b[1;33m=\u001b[0m\u001b[0mmode\u001b[0m\u001b[1;33m,\u001b[0m\u001b[1;33m\u001b[0m\u001b[1;33m\u001b[0m\u001b[0m\n\u001b[0;32m   1248\u001b[0m                 \u001b[0mname\u001b[0m\u001b[1;33m=\u001b[0m\u001b[0mname\u001b[0m\u001b[1;33m,\u001b[0m\u001b[1;33m\u001b[0m\u001b[1;33m\u001b[0m\u001b[0m\n",
      "\u001b[1;32mc:\\Users\\RezaS\\AppData\\Local\\Programs\\Python\\Python312\\Lib\\site-packages\\tifffile\\tifffile.py\u001b[0m in \u001b[0;36m?\u001b[1;34m(self, file, mode, name, offset, size, omexml, _multifile, _useframes, _parent, **is_flags)\u001b[0m\n\u001b[0;32m   4266\u001b[0m                 \u001b[1;32mraise\u001b[0m \u001b[0mValueError\u001b[0m\u001b[1;33m(\u001b[0m\u001b[1;34m'invalid OME-XML'\u001b[0m\u001b[1;33m)\u001b[0m\u001b[1;33m\u001b[0m\u001b[1;33m\u001b[0m\u001b[0m\n\u001b[0;32m   4267\u001b[0m             \u001b[0mself\u001b[0m\u001b[1;33m.\u001b[0m\u001b[0m_omexml\u001b[0m \u001b[1;33m=\u001b[0m \u001b[0momexml\u001b[0m\u001b[1;33m\u001b[0m\u001b[1;33m\u001b[0m\u001b[0m\n\u001b[0;32m   4268\u001b[0m             \u001b[0mself\u001b[0m\u001b[1;33m.\u001b[0m\u001b[0mis_ome\u001b[0m \u001b[1;33m=\u001b[0m \u001b[1;32mTrue\u001b[0m\u001b[1;33m\u001b[0m\u001b[1;33m\u001b[0m\u001b[0m\n\u001b[0;32m   4269\u001b[0m \u001b[1;33m\u001b[0m\u001b[0m\n\u001b[1;32m-> 4270\u001b[1;33m         \u001b[0mfh\u001b[0m \u001b[1;33m=\u001b[0m \u001b[0mFileHandle\u001b[0m\u001b[1;33m(\u001b[0m\u001b[0mfile\u001b[0m\u001b[1;33m,\u001b[0m \u001b[0mmode\u001b[0m\u001b[1;33m=\u001b[0m\u001b[0mmode\u001b[0m\u001b[1;33m,\u001b[0m \u001b[0mname\u001b[0m\u001b[1;33m=\u001b[0m\u001b[0mname\u001b[0m\u001b[1;33m,\u001b[0m \u001b[0moffset\u001b[0m\u001b[1;33m=\u001b[0m\u001b[0moffset\u001b[0m\u001b[1;33m,\u001b[0m \u001b[0msize\u001b[0m\u001b[1;33m=\u001b[0m\u001b[0msize\u001b[0m\u001b[1;33m)\u001b[0m\u001b[1;33m\u001b[0m\u001b[1;33m\u001b[0m\u001b[0m\n\u001b[0m\u001b[0;32m   4271\u001b[0m         \u001b[0mself\u001b[0m\u001b[1;33m.\u001b[0m\u001b[0m_fh\u001b[0m \u001b[1;33m=\u001b[0m \u001b[0mfh\u001b[0m\u001b[1;33m\u001b[0m\u001b[1;33m\u001b[0m\u001b[0m\n\u001b[0;32m   4272\u001b[0m         \u001b[0mself\u001b[0m\u001b[1;33m.\u001b[0m\u001b[0m_multifile\u001b[0m \u001b[1;33m=\u001b[0m \u001b[1;32mTrue\u001b[0m \u001b[1;32mif\u001b[0m \u001b[0m_multifile\u001b[0m \u001b[1;32mis\u001b[0m \u001b[1;32mNone\u001b[0m \u001b[1;32melse\u001b[0m \u001b[0mbool\u001b[0m\u001b[1;33m(\u001b[0m\u001b[0m_multifile\u001b[0m\u001b[1;33m)\u001b[0m\u001b[1;33m\u001b[0m\u001b[1;33m\u001b[0m\u001b[0m\n\u001b[0;32m   4273\u001b[0m         \u001b[0mself\u001b[0m\u001b[1;33m.\u001b[0m\u001b[0m_files\u001b[0m \u001b[1;33m=\u001b[0m \u001b[1;33m{\u001b[0m\u001b[0mfh\u001b[0m\u001b[1;33m.\u001b[0m\u001b[0mname\u001b[0m\u001b[1;33m:\u001b[0m \u001b[0mself\u001b[0m\u001b[1;33m}\u001b[0m\u001b[1;33m\u001b[0m\u001b[1;33m\u001b[0m\u001b[0m\n",
      "\u001b[1;32mc:\\Users\\RezaS\\AppData\\Local\\Programs\\Python\\Python312\\Lib\\site-packages\\tifffile\\tifffile.py\u001b[0m in \u001b[0;36m?\u001b[1;34m(self, file, mode, name, offset, size)\u001b[0m\n\u001b[0;32m  14655\u001b[0m         \u001b[0mself\u001b[0m\u001b[1;33m.\u001b[0m\u001b[0m_offset\u001b[0m \u001b[1;33m=\u001b[0m \u001b[1;33m-\u001b[0m\u001b[1;36m1\u001b[0m \u001b[1;32mif\u001b[0m \u001b[0moffset\u001b[0m \u001b[1;32mis\u001b[0m \u001b[1;32mNone\u001b[0m \u001b[1;32melse\u001b[0m \u001b[0moffset\u001b[0m\u001b[1;33m\u001b[0m\u001b[1;33m\u001b[0m\u001b[0m\n\u001b[0;32m  14656\u001b[0m         \u001b[0mself\u001b[0m\u001b[1;33m.\u001b[0m\u001b[0m_size\u001b[0m \u001b[1;33m=\u001b[0m \u001b[1;33m-\u001b[0m\u001b[1;36m1\u001b[0m \u001b[1;32mif\u001b[0m \u001b[0msize\u001b[0m \u001b[1;32mis\u001b[0m \u001b[1;32mNone\u001b[0m \u001b[1;32melse\u001b[0m \u001b[0msize\u001b[0m\u001b[1;33m\u001b[0m\u001b[1;33m\u001b[0m\u001b[0m\n\u001b[0;32m  14657\u001b[0m         \u001b[0mself\u001b[0m\u001b[1;33m.\u001b[0m\u001b[0m_close\u001b[0m \u001b[1;33m=\u001b[0m \u001b[1;32mTrue\u001b[0m\u001b[1;33m\u001b[0m\u001b[1;33m\u001b[0m\u001b[0m\n\u001b[0;32m  14658\u001b[0m         \u001b[0mself\u001b[0m\u001b[1;33m.\u001b[0m\u001b[0m_lock\u001b[0m \u001b[1;33m=\u001b[0m \u001b[0mNullContext\u001b[0m\u001b[1;33m(\u001b[0m\u001b[1;33m)\u001b[0m\u001b[1;33m\u001b[0m\u001b[1;33m\u001b[0m\u001b[0m\n\u001b[1;32m> 14659\u001b[1;33m         \u001b[0mself\u001b[0m\u001b[1;33m.\u001b[0m\u001b[0mopen\u001b[0m\u001b[1;33m(\u001b[0m\u001b[1;33m)\u001b[0m\u001b[1;33m\u001b[0m\u001b[1;33m\u001b[0m\u001b[0m\n\u001b[0m\u001b[0;32m  14660\u001b[0m         \u001b[1;32massert\u001b[0m \u001b[0mself\u001b[0m\u001b[1;33m.\u001b[0m\u001b[0m_fh\u001b[0m \u001b[1;32mis\u001b[0m \u001b[1;32mnot\u001b[0m \u001b[1;32mNone\u001b[0m\u001b[1;33m\u001b[0m\u001b[1;33m\u001b[0m\u001b[0m\n",
      "\u001b[1;32mc:\\Users\\RezaS\\AppData\\Local\\Programs\\Python\\Python312\\Lib\\site-packages\\tifffile\\tifffile.py\u001b[0m in \u001b[0;36m?\u001b[1;34m(self)\u001b[0m\n\u001b[0;32m  14674\u001b[0m             \u001b[1;32mif\u001b[0m \u001b[0mself\u001b[0m\u001b[1;33m.\u001b[0m\u001b[0m_mode\u001b[0m \u001b[1;32mnot\u001b[0m \u001b[1;32min\u001b[0m \u001b[1;33m{\u001b[0m\u001b[1;34m'rb'\u001b[0m\u001b[1;33m,\u001b[0m \u001b[1;34m'r+b'\u001b[0m\u001b[1;33m,\u001b[0m \u001b[1;34m'wb'\u001b[0m\u001b[1;33m,\u001b[0m \u001b[1;34m'xb'\u001b[0m\u001b[1;33m}\u001b[0m\u001b[1;33m:\u001b[0m\u001b[1;33m\u001b[0m\u001b[1;33m\u001b[0m\u001b[0m\n\u001b[0;32m  14675\u001b[0m                 \u001b[1;32mraise\u001b[0m \u001b[0mValueError\u001b[0m\u001b[1;33m(\u001b[0m\u001b[1;33mf'\u001b[0m\u001b[1;33minvalid mode \u001b[0m\u001b[1;33m{\u001b[0m\u001b[0mself\u001b[0m\u001b[1;33m.\u001b[0m\u001b[0m_mode\u001b[0m\u001b[1;33m}\u001b[0m\u001b[1;33m'\u001b[0m\u001b[1;33m)\u001b[0m\u001b[1;33m\u001b[0m\u001b[1;33m\u001b[0m\u001b[0m\n\u001b[0;32m  14676\u001b[0m             \u001b[0mself\u001b[0m\u001b[1;33m.\u001b[0m\u001b[0m_file\u001b[0m \u001b[1;33m=\u001b[0m \u001b[0mos\u001b[0m\u001b[1;33m.\u001b[0m\u001b[0mpath\u001b[0m\u001b[1;33m.\u001b[0m\u001b[0mrealpath\u001b[0m\u001b[1;33m(\u001b[0m\u001b[0mself\u001b[0m\u001b[1;33m.\u001b[0m\u001b[0m_file\u001b[0m\u001b[1;33m)\u001b[0m\u001b[1;33m\u001b[0m\u001b[1;33m\u001b[0m\u001b[0m\n\u001b[0;32m  14677\u001b[0m             \u001b[0mself\u001b[0m\u001b[1;33m.\u001b[0m\u001b[0m_dir\u001b[0m\u001b[1;33m,\u001b[0m \u001b[0mself\u001b[0m\u001b[1;33m.\u001b[0m\u001b[0m_name\u001b[0m \u001b[1;33m=\u001b[0m \u001b[0mos\u001b[0m\u001b[1;33m.\u001b[0m\u001b[0mpath\u001b[0m\u001b[1;33m.\u001b[0m\u001b[0msplit\u001b[0m\u001b[1;33m(\u001b[0m\u001b[0mself\u001b[0m\u001b[1;33m.\u001b[0m\u001b[0m_file\u001b[0m\u001b[1;33m)\u001b[0m\u001b[1;33m\u001b[0m\u001b[1;33m\u001b[0m\u001b[0m\n\u001b[1;32m> 14678\u001b[1;33m             self._fh = open(\n\u001b[0m\u001b[0;32m  14679\u001b[0m                 \u001b[0mself\u001b[0m\u001b[1;33m.\u001b[0m\u001b[0m_file\u001b[0m\u001b[1;33m,\u001b[0m \u001b[0mself\u001b[0m\u001b[1;33m.\u001b[0m\u001b[0m_mode\u001b[0m\u001b[1;33m,\u001b[0m \u001b[0mencoding\u001b[0m\u001b[1;33m=\u001b[0m\u001b[1;32mNone\u001b[0m\u001b[1;33m\u001b[0m\u001b[1;33m\u001b[0m\u001b[0m\n\u001b[0;32m  14680\u001b[0m             \u001b[1;33m)\u001b[0m  \u001b[1;31m# type: ignore\u001b[0m\u001b[1;33m\u001b[0m\u001b[1;33m\u001b[0m\u001b[0m\n\u001b[0;32m  14681\u001b[0m             \u001b[0mself\u001b[0m\u001b[1;33m.\u001b[0m\u001b[0m_close\u001b[0m \u001b[1;33m=\u001b[0m \u001b[1;32mTrue\u001b[0m\u001b[1;33m\u001b[0m\u001b[1;33m\u001b[0m\u001b[0m\n",
      "\u001b[1;31mFileNotFoundError\u001b[0m: [Errno 2] No such file or directory: 'D:\\\\Medical-Image-Processing\\\\Data\\\\Inputs_Train\\\\11\\\\22\\\\33\\\\ytma10_010704_benign1_ccd.tif'"
     ]
    }
   ],
   "source": [
    "io.imread(path_files[0])\n",
    "    "
   ]
  },
  {
   "cell_type": "code",
   "execution_count": null,
   "metadata": {},
   "outputs": [],
   "source": [
    "for n, f in tqdm(enumerate(IMG_Dataset), total = len(IMG_Dataset)):\n",
    "    Images = imread (IMAGE_PATH + f)[:,:,:IMG_CHANNELS]"
   ]
  }
 ],
 "metadata": {
  "kernelspec": {
   "display_name": "Python 3",
   "language": "python",
   "name": "python3"
  },
  "language_info": {
   "codemirror_mode": {
    "name": "ipython",
    "version": 3
   },
   "file_extension": ".py",
   "mimetype": "text/x-python",
   "name": "python",
   "nbconvert_exporter": "python",
   "pygments_lexer": "ipython3",
   "version": "3.12.4"
  }
 },
 "nbformat": 4,
 "nbformat_minor": 2
}
