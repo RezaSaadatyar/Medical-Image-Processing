{
 "cells": [
  {
   "cell_type": "markdown",
   "metadata": {},
   "source": [
    "***Welcome to Medical image processing in Python***<br/>\n",
    "\n",
    "Presented by: Reza Saadatyar (2024-2025) <br/>\n",
    "E-mail: Reza.Saadatyar@outlook.com "
   ]
  },
  {
   "cell_type": "markdown",
   "metadata": {},
   "source": [
    "**Import the require library**"
   ]
  },
  {
   "cell_type": "code",
   "execution_count": 1,
   "metadata": {},
   "outputs": [],
   "source": [
    "import os\n",
    "import sys\n",
    "import glob\n",
    "import random\n",
    "import numpy as np\n",
    "from tqdm import tqdm\n",
    "from PIL import Image\n",
    "from Functions import Data_path\n",
    "import matplotlib.pyplot as plt\n",
    "from keras import preprocessing\n",
    "from skimage import transform\n",
    "from skimage import io\n",
    "# from skimage.viewer import ImageViewer\n",
    "# from OOP import Pre_Processing_R2g"
   ]
  },
  {
   "cell_type": "markdown",
   "metadata": {},
   "source": [
    "**1. Set Image Path & Load data**"
   ]
  },
  {
   "cell_type": "code",
   "execution_count": 35,
   "metadata": {},
   "outputs": [],
   "source": [
    "folder_path = \"D:/Medical-Image-Processing/Data/Inputs_Train\"\n",
    "path_files, files, folders = Data_path.data_path(folder_path, data_format=\"tif\") "
   ]
  },
  {
   "cell_type": "markdown",
   "metadata": {},
   "source": [
    "*Image-Width: n*<br/>\n",
    "*Image-Height: m*<br/>\n",
    "*Hannels: c*<br/>\n",
    "*Planes: p*<br/>\n",
    "*Grayscale: (p, m, n)*<br/>\n",
    "*RGB: (p, m, n, c)*<br/>"
   ]
  },
  {
   "cell_type": "code",
   "execution_count": 38,
   "metadata": {},
   "outputs": [
    {
     "data": {
      "text/plain": [
       "['D:/Medical-Image-Processing/Data/Inputs_Train\\\\ytma10_010704_benign1_ccd.tif',\n",
       " 'D:/Medical-Image-Processing/Data/Inputs_Train\\\\ytma10_010704_benign2_ccd.tif',\n",
       " 'D:/Medical-Image-Processing/Data/Inputs_Train\\\\ytma10_010704_benign3_ccd.tif',\n",
       " 'D:/Medical-Image-Processing/Data/Inputs_Train\\\\ytma10_010704_malignant1_ccd.tif',\n",
       " 'D:/Medical-Image-Processing/Data/Inputs_Train\\\\ytma10_010704_malignant2_ccd.tif',\n",
       " 'D:/Medical-Image-Processing/Data/Inputs_Train\\\\ytma10_010704_malignant3_ccd.tif',\n",
       " 'D:/Medical-Image-Processing/Data/Inputs_Train\\\\ytma12_010804_benign1_ccd.tif',\n",
       " 'D:/Medical-Image-Processing/Data/Inputs_Train\\\\ytma12_010804_benign2_ccd.tif',\n",
       " 'D:/Medical-Image-Processing/Data/Inputs_Train\\\\ytma12_010804_benign3_ccd.tif',\n",
       " 'D:/Medical-Image-Processing/Data/Inputs_Train\\\\ytma12_010804_malignant1_ccd.tif',\n",
       " 'D:/Medical-Image-Processing/Data/Inputs_Train\\\\ytma12_010804_malignant2_ccd.tif',\n",
       " 'D:/Medical-Image-Processing/Data/Inputs_Train\\\\ytma12_010804_malignant3_ccd.tif',\n",
       " 'D:/Medical-Image-Processing/Data/Inputs_Train\\\\ytma23_022103_benign1_ccd.tif',\n",
       " 'D:/Medical-Image-Processing/Data/Inputs_Train\\\\ytma23_022103_benign2_ccd.tif',\n",
       " 'D:/Medical-Image-Processing/Data/Inputs_Train\\\\ytma23_022103_benign3_ccd.tif',\n",
       " 'D:/Medical-Image-Processing/Data/Inputs_Train\\\\ytma23_022103_malignant1_ccd.tif',\n",
       " 'D:/Medical-Image-Processing/Data/Inputs_Train\\\\ytma23_022103_malignant2_ccd.tif',\n",
       " 'D:/Medical-Image-Processing/Data/Inputs_Train\\\\ytma23_022103_malignant3_ccd.tif',\n",
       " 'D:/Medical-Image-Processing/Data/Inputs_Train\\\\ytma49_042003_benign1_ccd.tif',\n",
       " 'D:/Medical-Image-Processing/Data/Inputs_Train\\\\ytma49_042003_benign2_ccd.tif',\n",
       " 'D:/Medical-Image-Processing/Data/Inputs_Train\\\\ytma49_042003_benign3_ccd.tif',\n",
       " 'D:/Medical-Image-Processing/Data/Inputs_Train\\\\ytma49_042003_malignant1_ccd.tif',\n",
       " 'D:/Medical-Image-Processing/Data/Inputs_Train\\\\ytma49_042003_malignant2_ccd.tif',\n",
       " 'D:/Medical-Image-Processing/Data/Inputs_Train\\\\ytma49_042003_malignant3_ccd.tif',\n",
       " 'D:/Medical-Image-Processing/Data/Inputs_Train\\\\ytma49_042203_benign1_ccd.tif',\n",
       " 'D:/Medical-Image-Processing/Data/Inputs_Train\\\\ytma49_042203_benign2_ccd.tif',\n",
       " 'D:/Medical-Image-Processing/Data/Inputs_Train\\\\ytma49_042203_benign3_ccd.tif',\n",
       " 'D:/Medical-Image-Processing/Data/Inputs_Train\\\\ytma49_042203_malignant1_ccd.tif',\n",
       " 'D:/Medical-Image-Processing/Data/Inputs_Train\\\\ytma49_042203_malignant2_ccd.tif',\n",
       " 'D:/Medical-Image-Processing/Data/Inputs_Train\\\\ytma49_042203_malignant3_ccd.tif',\n",
       " 'D:/Medical-Image-Processing/Data/Inputs_Train\\\\ytma49_042403_benign1_ccd.tif',\n",
       " 'D:/Medical-Image-Processing/Data/Inputs_Train\\\\ytma49_042403_benign2_ccd.tif',\n",
       " 'D:/Medical-Image-Processing/Data/Inputs_Train\\\\ytma49_042403_benign3_ccd.tif',\n",
       " 'D:/Medical-Image-Processing/Data/Inputs_Train\\\\ytma49_042403_malignant1_ccd.tif',\n",
       " 'D:/Medical-Image-Processing/Data/Inputs_Train\\\\ytma49_042403_malignant2_ccd.tif',\n",
       " 'D:/Medical-Image-Processing/Data/Inputs_Train\\\\ytma49_042403_malignant3_ccd.tif',\n",
       " 'D:/Medical-Image-Processing/Data/Inputs_Train\\\\ytma49_072303_benign1_ccd.tif',\n",
       " 'D:/Medical-Image-Processing/Data/Inputs_Train\\\\ytma49_072303_benign2_ccd.tif',\n",
       " 'D:/Medical-Image-Processing/Data/Inputs_Train\\\\ytma49_072303_malignant1_ccd.tif',\n",
       " 'D:/Medical-Image-Processing/Data/Inputs_Train\\\\ytma49_072303_malignant2_ccd.tif',\n",
       " 'D:/Medical-Image-Processing/Data/Inputs_Train\\\\ytma49_111003_benign1_ccd.tif',\n",
       " 'D:/Medical-Image-Processing/Data/Inputs_Train\\\\ytma49_111003_benign2_ccd.tif',\n",
       " 'D:/Medical-Image-Processing/Data/Inputs_Train\\\\ytma49_111003_benign3_ccd.tif',\n",
       " 'D:/Medical-Image-Processing/Data/Inputs_Train\\\\ytma49_111003_malignant1_ccd.tif',\n",
       " 'D:/Medical-Image-Processing/Data/Inputs_Train\\\\ytma49_111003_malignant2_ccd.tif',\n",
       " 'D:/Medical-Image-Processing/Data/Inputs_Train\\\\ytma49_111003_malignant3_ccd.tif',\n",
       " 'D:/Medical-Image-Processing/Data/Inputs_Train\\\\ytma49_111303_benign1_ccd.tif',\n",
       " 'D:/Medical-Image-Processing/Data/Inputs_Train\\\\ytma49_111303_benign2_ccd.tif',\n",
       " 'D:/Medical-Image-Processing/Data/Inputs_Train\\\\ytma49_111303_benign3_ccd.tif',\n",
       " 'D:/Medical-Image-Processing/Data/Inputs_Train\\\\ytma49_111303_malignant1_ccd.tif',\n",
       " 'D:/Medical-Image-Processing/Data/Inputs_Train\\\\ytma49_111303_malignant2_ccd.tif',\n",
       " 'D:/Medical-Image-Processing/Data/Inputs_Train\\\\ytma49_111303_malignant3_ccd.tif',\n",
       " 'D:/Medical-Image-Processing/Data/Inputs_Train\\\\ytma55_030603_benign1_ccd.tif',\n",
       " 'D:/Medical-Image-Processing/Data/Inputs_Train\\\\ytma55_030603_benign2_ccd.tif',\n",
       " 'D:/Medical-Image-Processing/Data/Inputs_Train\\\\ytma55_030603_benign3_ccd.tif',\n",
       " 'D:/Medical-Image-Processing/Data/Inputs_Train\\\\ytma55_030603_benign4_ccd.tif']"
      ]
     },
     "execution_count": 38,
     "metadata": {},
     "output_type": "execute_result"
    }
   ],
   "source": [
    "path_files"
   ]
  },
  {
   "cell_type": "code",
   "execution_count": 47,
   "metadata": {},
   "outputs": [],
   "source": [
    "IMG_HEIGHT = 768\n",
    "IMG_WIDTH = 896\n",
    "IMG_CHANNELS = 3\n",
    "Input_data = np.zeros((56, IMG_HEIGHT, IMG_WIDTH, IMG_CHANNELS), dtype = np.uint8)   # 56*768*896*3\n",
    "Ground_Truth = np.zeros((56, IMG_HEIGHT, IMG_WIDTH, 2), dtype = bool)            # 56*768*896*2"
   ]
  },
  {
   "cell_type": "code",
   "execution_count": null,
   "metadata": {},
   "outputs": [],
   "source": [
    "for ind, in1 in enumerate(path_files):\n",
    "    Input_data[ind] = io.imread(path_files[0])[:, :, :3]"
   ]
  },
  {
   "cell_type": "code",
   "execution_count": null,
   "metadata": {},
   "outputs": [],
   "source": [
    "for n, f in tqdm(enumerate(IMG_Dataset), total = len(IMG_Dataset)):\n",
    "    Images = imread (IMAGE_PATH + f)[:,:,:IMG_CHANNELS]\n",
    "    Inputs[n] = Images\n",
    "    \n",
    "#    Masks = imread(IMAGE_MASK_PATH + f.replace('_ccd.tif', '.TIF'))\n",
    "#    Masks = np.squeeze(Masks).astype(np.bool)\n",
    "#    \n",
    "#    Ground_Truth[n, :, :, 0] = ~Masks\n",
    "#    Ground_Truth[n, :, :, 1] = Masks"
   ]
  }
 ],
 "metadata": {
  "kernelspec": {
   "display_name": "Python 3",
   "language": "python",
   "name": "python3"
  },
  "language_info": {
   "codemirror_mode": {
    "name": "ipython",
    "version": 3
   },
   "file_extension": ".py",
   "mimetype": "text/x-python",
   "name": "python",
   "nbconvert_exporter": "python",
   "pygments_lexer": "ipython3",
   "version": "3.12.4"
  }
 },
 "nbformat": 4,
 "nbformat_minor": 2
}
