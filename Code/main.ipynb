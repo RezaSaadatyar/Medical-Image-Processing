{
 "cells": [
  {
   "cell_type": "markdown",
   "metadata": {},
   "source": [
    "***Welcome to Medical image processing in Python***<br/>\n",
    "\n",
    "Presented by: Reza Saadatyar (2024-2025) <br/>\n",
    "E-mail: Reza.Saadatyar@outlook.com "
   ]
  },
  {
   "cell_type": "markdown",
   "metadata": {},
   "source": [
    "**Import the require library**"
   ]
  },
  {
   "cell_type": "code",
   "execution_count": 1,
   "metadata": {},
   "outputs": [],
   "source": [
    "import sys\n",
    "import numpy as np\n",
    "from tqdm import tqdm\n",
    "from PIL import Image\n",
    "import matplotlib.pyplot as plt\n",
    "from colorama import Back, Fore\n",
    "\n",
    "# from skimage.viewer import ImageViewer\n",
    "# from OOP import Pre_Processing_R2g\n",
    "# from Functions import image_resizer"
   ]
  },
  {
   "cell_type": "markdown",
   "metadata": {},
   "source": [
    "**1. Set Image Path & Load data**"
   ]
  },
  {
   "cell_type": "code",
   "execution_count": 7,
   "metadata": {},
   "outputs": [],
   "source": [
    "import os\n",
    "from itertools import chain\n",
    "\n",
    "class DirectoryReader:\n",
    "    \"\"\"\n",
    "    A class for reading and processing files in a directory with a specific format.\n",
    "    \"\"\"\n",
    "    def __init__(self, directory_path: str, format_type: str) -> None:\n",
    "        \"\"\"\n",
    "        Initialize the DirectoryReader with a directory path and file format.\n",
    "\n",
    "        :param directory_path: Path to the directory to scan for files.\n",
    "        :param format_type: File format (extension) to filter files, e.g., \".tif\".\n",
    "        \"\"\"        \n",
    "        self.files: list[str] = [] # Stores the names of all files matching the specified format.\n",
    "        self.full_path: list[str] = [] # Stores the full paths of all matching files.\n",
    "        self.folder_path: list[str] = [] # Stores the unique folder paths containing the files.\n",
    "        self.subfolder: list[list[str]] = [] # Stores the names of subfolders for each directory.\n",
    "        self.format_type: str = format_type # Stores the file format to filter (e.g., \".tif\").\n",
    "        self.directory_path: str = directory_path # Stores the root directory path to scan.\n",
    "        self._scan_directory()  # Perform the directory scanning process.\n",
    "\n",
    "    def _scan_directory(self) -> None:\n",
    "        for root, subfolder_name, files_name in os.walk(self.directory_path):  # Traverse the directory tree\n",
    "            root = root.replace(\"\\\\\", \"/\")  # Replace backslashes with forward slashes for cross-platform compatibility\n",
    "\n",
    "            for file in files_name:\n",
    "                if file.endswith(self.format_type):  # Check if the file ends with the specified format\n",
    "                    self.files.append(file)  # Append the file name to the files list\n",
    "\n",
    "                    if root not in self.folder_path:  # Check if the root folder is not already in the folder_paths list\n",
    "                        self.folder_path.append(root)  # If not, append the root folder to the folder_paths list\n",
    "\n",
    "                    self.full_path.append(os.path.join(root, file).replace(\"\\\\\", \"/\"))  # Append the full file path\n",
    "\n",
    "                    # Ensure subfolder names are unique and non-empty\n",
    "                    if subfolder_name not in self.subfolder and subfolder_name != []:\n",
    "                        self.subfolder.append(subfolder_name)  # Append subfolder names to subfolders list\n",
    "\n",
    "    @property\n",
    "    def all_file_paths(self) -> list[str]:\n",
    "        \"\"\"\n",
    "        Retrieve all full file paths for files with the specified format.\n",
    "\n",
    "        :return: List of full file paths.\n",
    "        \"\"\"\n",
    "        return self.full_path\n",
    "\n",
    "    @property\n",
    "    def filenames(self) -> list[str]:\n",
    "        \"\"\"\n",
    "        Retrieve the list of filenames.\n",
    "\n",
    "        :return: List of filenames.\n",
    "        \"\"\"\n",
    "        return self.files\n",
    "\n",
    "    @property\n",
    "    def folder_paths(self) -> list[str]:\n",
    "        \"\"\"\n",
    "        Retrieve the list of folder paths containing the files.\n",
    "\n",
    "        :return: List of folder paths.\n",
    "        \"\"\"\n",
    "        return self.folder_path\n",
    "\n",
    "    @property\n",
    "    def subfoldernames(self) -> list[str]:\n",
    "        \"\"\"\n",
    "        Retrieve a flattened list of subfolder names.\n",
    "\n",
    "        :return: Flattened list of subfolder names.\n",
    "        \"\"\"\n",
    "        return list(chain.from_iterable(self.subfolder))"
   ]
  },
  {
   "cell_type": "code",
   "execution_count": 8,
   "metadata": {},
   "outputs": [
    {
     "name": "stdout",
     "output_type": "stream",
     "text": [
      "\u001b[32mpath__with_file = ['D:/Medical-Image-Processing/Data/Inputs/ytma12_010804_benign2_ccd.tif', 'D:/Medical-Image-Processing/Data/Inputs/ytma12_010804_benign3_ccd.tif', 'D:/Medical-Image-Processing/Data/Inputs/ytma12_010804_malignant1_ccd.tif', 'D:/Medical-Image-Processing/Data/Inputs/ytma12_010804_malignant2_ccd.tif', 'D:/Medical-Image-Processing/Data/Inputs/ytma12_010804_malignant3_ccd.tif', 'D:/Medical-Image-Processing/Data/Inputs/ytma23_022103_benign1_ccd.tif', 'D:/Medical-Image-Processing/Data/Inputs/ytma23_022103_benign2_ccd.tif', 'D:/Medical-Image-Processing/Data/Inputs/ytma23_022103_benign3_ccd.tif', 'D:/Medical-Image-Processing/Data/Inputs/ytma23_022103_malignant1_ccd.tif', 'D:/Medical-Image-Processing/Data/Inputs/ytma23_022103_malignant2_ccd.tif', 'D:/Medical-Image-Processing/Data/Inputs/ytma23_022103_malignant3_ccd.tif', 'D:/Medical-Image-Processing/Data/Inputs/ytma49_042003_benign1_ccd.tif', 'D:/Medical-Image-Processing/Data/Inputs/ytma49_042003_benign2_ccd.tif', 'D:/Medical-Image-Processing/Data/Inputs/ytma49_042003_benign3_ccd.tif', 'D:/Medical-Image-Processing/Data/Inputs/ytma49_042003_malignant1_ccd.tif', 'D:/Medical-Image-Processing/Data/Inputs/ytma49_042003_malignant2_ccd.tif', 'D:/Medical-Image-Processing/Data/Inputs/ytma49_042003_malignant3_ccd.tif', 'D:/Medical-Image-Processing/Data/Inputs/ytma49_042203_benign1_ccd.tif', 'D:/Medical-Image-Processing/Data/Inputs/ytma49_042203_benign2_ccd.tif', 'D:/Medical-Image-Processing/Data/Inputs/ytma49_042203_benign3_ccd.tif', 'D:/Medical-Image-Processing/Data/Inputs/ytma49_042203_malignant1_ccd.tif', 'D:/Medical-Image-Processing/Data/Inputs/ytma49_042203_malignant2_ccd.tif', 'D:/Medical-Image-Processing/Data/Inputs/ytma49_042203_malignant3_ccd.tif', 'D:/Medical-Image-Processing/Data/Inputs/ytma49_042403_benign1_ccd.tif', 'D:/Medical-Image-Processing/Data/Inputs/ytma49_042403_benign2_ccd.tif', 'D:/Medical-Image-Processing/Data/Inputs/ytma49_042403_benign3_ccd.tif', 'D:/Medical-Image-Processing/Data/Inputs/ytma49_042403_malignant1_ccd.tif', 'D:/Medical-Image-Processing/Data/Inputs/ytma49_042403_malignant2_ccd.tif', 'D:/Medical-Image-Processing/Data/Inputs/ytma49_042403_malignant3_ccd.tif', 'D:/Medical-Image-Processing/Data/Inputs/ytma49_072303_benign1_ccd.tif', 'D:/Medical-Image-Processing/Data/Inputs/ytma49_072303_benign2_ccd.tif', 'D:/Medical-Image-Processing/Data/Inputs/ytma49_072303_malignant1_ccd.tif', 'D:/Medical-Image-Processing/Data/Inputs/ytma49_072303_malignant2_ccd.tif', 'D:/Medical-Image-Processing/Data/Inputs/ytma49_111003_benign1_ccd.tif', 'D:/Medical-Image-Processing/Data/Inputs/ytma49_111003_benign2_ccd.tif', 'D:/Medical-Image-Processing/Data/Inputs/ytma49_111003_benign3_ccd.tif', 'D:/Medical-Image-Processing/Data/Inputs/ytma49_111003_malignant1_ccd.tif', 'D:/Medical-Image-Processing/Data/Inputs/ytma49_111003_malignant2_ccd.tif', 'D:/Medical-Image-Processing/Data/Inputs/ytma49_111003_malignant3_ccd.tif', 'D:/Medical-Image-Processing/Data/Inputs/ytma49_111303_benign1_ccd.tif', 'D:/Medical-Image-Processing/Data/Inputs/ytma49_111303_benign2_ccd.tif', 'D:/Medical-Image-Processing/Data/Inputs/ytma49_111303_benign3_ccd.tif', 'D:/Medical-Image-Processing/Data/Inputs/ytma49_111303_malignant1_ccd.tif', 'D:/Medical-Image-Processing/Data/Inputs/ytma49_111303_malignant2_ccd.tif', 'D:/Medical-Image-Processing/Data/Inputs/ytma49_111303_malignant3_ccd.tif', 'D:/Medical-Image-Processing/Data/Inputs/ytma55_030603_benign1_ccd.tif', 'D:/Medical-Image-Processing/Data/Inputs/ytma55_030603_benign2_ccd.tif', 'D:/Medical-Image-Processing/Data/Inputs/ytma55_030603_benign3_ccd.tif', 'D:/Medical-Image-Processing/Data/Inputs/ytma55_030603_benign4_ccd.tif', 'D:/Medical-Image-Processing/Data/Inputs/ytma55_030603_benign5_ccd.tif', 'D:/Medical-Image-Processing/Data/Inputs/ytma55_030603_benign6_ccd.tif', 'D:/Medical-Image-Processing/Data/Inputs/A/ytma10_010704_benign1_ccd.tif', 'D:/Medical-Image-Processing/Data/Inputs/A/ytma10_010704_benign2_ccd.tif', 'D:/Medical-Image-Processing/Data/Inputs/A/ytma12_010804_benign1_ccd.tif', 'D:/Medical-Image-Processing/Data/Inputs/A/B/ytma10_010704_malignant2_ccd.tif', 'D:/Medical-Image-Processing/Data/Inputs/A/B/ytma10_010704_malignant3_ccd.tif', 'D:/Medical-Image-Processing/Data/Inputs/A/B/C/ytma10_010704_benign3_ccd.tif', 'D:/Medical-Image-Processing/Data/Inputs/A/B/C/ytma10_010704_malignant1_ccd.tif']\n",
      "\u001b[34mfolder_paths = ['D:/Medical-Image-Processing/Data/Inputs', 'D:/Medical-Image-Processing/Data/Inputs/A', 'D:/Medical-Image-Processing/Data/Inputs/A/B', 'D:/Medical-Image-Processing/Data/Inputs/A/B/C']\n",
      "\u001b[35mfiles = ['ytma12_010804_benign2_ccd.tif', 'ytma12_010804_benign3_ccd.tif', 'ytma12_010804_malignant1_ccd.tif', 'ytma12_010804_malignant2_ccd.tif', 'ytma12_010804_malignant3_ccd.tif', 'ytma23_022103_benign1_ccd.tif', 'ytma23_022103_benign2_ccd.tif', 'ytma23_022103_benign3_ccd.tif', 'ytma23_022103_malignant1_ccd.tif', 'ytma23_022103_malignant2_ccd.tif', 'ytma23_022103_malignant3_ccd.tif', 'ytma49_042003_benign1_ccd.tif', 'ytma49_042003_benign2_ccd.tif', 'ytma49_042003_benign3_ccd.tif', 'ytma49_042003_malignant1_ccd.tif', 'ytma49_042003_malignant2_ccd.tif', 'ytma49_042003_malignant3_ccd.tif', 'ytma49_042203_benign1_ccd.tif', 'ytma49_042203_benign2_ccd.tif', 'ytma49_042203_benign3_ccd.tif', 'ytma49_042203_malignant1_ccd.tif', 'ytma49_042203_malignant2_ccd.tif', 'ytma49_042203_malignant3_ccd.tif', 'ytma49_042403_benign1_ccd.tif', 'ytma49_042403_benign2_ccd.tif', 'ytma49_042403_benign3_ccd.tif', 'ytma49_042403_malignant1_ccd.tif', 'ytma49_042403_malignant2_ccd.tif', 'ytma49_042403_malignant3_ccd.tif', 'ytma49_072303_benign1_ccd.tif', 'ytma49_072303_benign2_ccd.tif', 'ytma49_072303_malignant1_ccd.tif', 'ytma49_072303_malignant2_ccd.tif', 'ytma49_111003_benign1_ccd.tif', 'ytma49_111003_benign2_ccd.tif', 'ytma49_111003_benign3_ccd.tif', 'ytma49_111003_malignant1_ccd.tif', 'ytma49_111003_malignant2_ccd.tif', 'ytma49_111003_malignant3_ccd.tif', 'ytma49_111303_benign1_ccd.tif', 'ytma49_111303_benign2_ccd.tif', 'ytma49_111303_benign3_ccd.tif', 'ytma49_111303_malignant1_ccd.tif', 'ytma49_111303_malignant2_ccd.tif', 'ytma49_111303_malignant3_ccd.tif', 'ytma55_030603_benign1_ccd.tif', 'ytma55_030603_benign2_ccd.tif', 'ytma55_030603_benign3_ccd.tif', 'ytma55_030603_benign4_ccd.tif', 'ytma55_030603_benign5_ccd.tif', 'ytma55_030603_benign6_ccd.tif', 'ytma10_010704_benign1_ccd.tif', 'ytma10_010704_benign2_ccd.tif', 'ytma12_010804_benign1_ccd.tif', 'ytma10_010704_malignant2_ccd.tif', 'ytma10_010704_malignant3_ccd.tif', 'ytma10_010704_benign3_ccd.tif', 'ytma10_010704_malignant1_ccd.tif']\n",
      "\u001b[36msubfolders = ['A', 'B', 'C']\n"
     ]
    }
   ],
   "source": [
    "directory_path = \"D:/Medical-Image-Processing/Data/Inputs\"\n",
    "\n",
    "# Create an instance of DirectoryReader with the directory path and file format\n",
    "file_reader = DirectoryReader(directory_path, format_type=\"tif\")\n",
    "\n",
    "path__with_file = file_reader.all_file_paths  # Get the list of all file paths\n",
    "folder_paths = file_reader.folder_paths  # Get the list of folder paths containing the files\n",
    "files = file_reader.filenames  # Get the list of filenames\n",
    "subfolders = file_reader.subfoldernames  # Get the flattened list of subfolder names\n",
    "\n",
    "print(Fore.GREEN + f\"{path__with_file = }\"\"\\n\" + Fore.BLUE + f\"{folder_paths = }\"\"\\n\" + Fore.MAGENTA + f\"{files = }\"+\n",
    "      \"\\n\" + Fore.CYAN + f\"{subfolders = }\")"
   ]
  },
  {
   "cell_type": "markdown",
   "metadata": {},
   "source": [
    "*Image-Width: n*<br/>\n",
    "*Image-Height: m*<br/>\n",
    "*Channels: c*<br/>\n",
    "*Planes: p*<br/>\n",
    "*Grayscale: (p, m, n)*<br/>\n",
    "*RGB: (p, m, n, c)*<br/>"
   ]
  },
  {
   "cell_type": "markdown",
   "metadata": {},
   "source": [
    "**2. Convert the image into an array**"
   ]
  },
  {
   "cell_type": "code",
   "execution_count": 15,
   "metadata": {},
   "outputs": [],
   "source": [
    "import numpy as np  # Import numpy for array manipulation\n",
    "from skimage import io  # Import scikit-image library for image I/O operations\n",
    "from Functions import directory_reader\n",
    "\n",
    "class ImageLoader:\n",
    "    \"\"\"\n",
    "    A class to load and process images from a directory into a NumPy array.\n",
    "    \"\"\"\n",
    "\n",
    "    def __init__(self, directory_path: str, format_type: str) -> None:\n",
    "        \"\"\"\n",
    "        Initialize the ImageLoader class.\n",
    "\n",
    "        :param directory_path: Root directory containing the images.\n",
    "        :param format_type: File format (extension) of the images (e.g., \".tif\").\n",
    "        \"\"\"\n",
    "        self.images = None  # Placeholder for loaded image array\n",
    "        self.img_width = None  # Width of the images\n",
    "        self.img_height = None  # Height of the images\n",
    "        self.img_channels = None  # Number of color channels in the images\n",
    "        self.format_type: str = format_type  # File format to filter (e.g., \".tif\")\n",
    "        self.directory_path: str = directory_path  # Root directory path to scan\n",
    "\n",
    "    @property\n",
    "    def load_dataset(self) -> np.ndarray:\n",
    "        \"\"\"\n",
    "        Load images from the specified directory into a NumPy array.\n",
    "\n",
    "        :return: NumPy array containing the loaded images.\n",
    "        \"\"\"\n",
    "        # Initialize the DirectoryReader to get file paths\n",
    "        dir_reader = directory_reader.DirectoryReader(self.directory_path, self.format_type)\n",
    "        all_path = dir_reader.all_file_paths\n",
    "\n",
    "        if not all_path:\n",
    "            raise ValueError(\"No files found in the specified directory.\")\n",
    "\n",
    "        num_files = len(all_path)  # Total number of image files\n",
    "        first_image = io.imread(all_path[0])  # Load the first image to determine its dimensions\n",
    "\n",
    "        # Check if the image is grayscale or colored\n",
    "        if first_image.ndim == 2:  # Grayscale image\n",
    "            self.img_height, self.img_width = first_image.shape  # Get image dimensions\n",
    "            self.images = np.zeros(  # Initialize NumPy array for grayscale images\n",
    "                (num_files, self.img_height, self.img_width),\n",
    "                dtype=np.uint8  # Pixel values are stored as unsigned 8-bit integers\n",
    "            )\n",
    "        else:  # Colored image (e.g., RGB)\n",
    "            self.img_height, self.img_width, self.img_channels = first_image.shape  # Get image dimensions\n",
    "            self.images = np.zeros(  # Initialize NumPy array for colored images\n",
    "                (num_files, self.img_height, self.img_width, self.img_channels),\n",
    "                dtype=np.uint8\n",
    "            )\n",
    "\n",
    "        # Load all images into the NumPy array\n",
    "        for idx, file_path in enumerate(all_path):\n",
    "            self.images[idx] = io.imread(file_path)  # Read and store each image\n",
    "\n",
    "        return self.images  # Return the loaded images as a NumPy array"
   ]
  },
  {
   "cell_type": "markdown",
   "metadata": {},
   "source": [
    "**2.1. Convert the images in the \"Inputs\" folder to a NumPy array**"
   ]
  },
  {
   "cell_type": "code",
   "execution_count": 16,
   "metadata": {},
   "outputs": [
    {
     "name": "stdout",
     "output_type": "stream",
     "text": [
      "\u001b[32minputs_array.shape = (58, 768, 896, 3)\n"
     ]
    }
   ],
   "source": [
    "file_path = \"D:/Medical-Image-Processing/Data/Inputs/\"\n",
    "inputs = ImageLoader(file_path, format_type=\"tif\") # A class to load and process images from file paths into a NumPy array.\n",
    "inputs_array = inputs.load_dataset # Load images from the provided file paths into a NumPy array.\n",
    "print(Fore.GREEN + f\"{inputs_array.shape = }\") "
   ]
  },
  {
   "cell_type": "code",
   "execution_count": 12,
   "metadata": {},
   "outputs": [
    {
     "name": "stdout",
     "output_type": "stream",
     "text": [
      "\u001b[32mmasks_array.shape = (58, 768, 896)\n"
     ]
    }
   ],
   "source": [
    "file_path = \"D:/Medical-Image-Processing/Data/Masks/\"\n",
    "masks = ImageLoader(file_path, format_type=\"TIF\") # A class to load and process images from file paths into a NumPy array.\n",
    "masks_array = masks.load_dataset # Load images from the provided file paths into a NumPy array.\n",
    "print(Fore.GREEN + f\"{masks_array.shape = }\") "
   ]
  },
  {
   "cell_type": "markdown",
   "metadata": {},
   "source": [
    "**2.2. Convert the images in the \"Masks\" folder to boolean**"
   ]
  },
  {
   "cell_type": "code",
   "execution_count": 8,
   "metadata": {},
   "outputs": [
    {
     "name": "stderr",
     "output_type": "stream",
     "text": [
      "58it [00:00, 175.09it/s]\n"
     ]
    }
   ],
   "source": [
    "data = io.imread(files_inputs[0])  # Load a file for obtaining size data\n",
    "img_height = data.shape[0]         # Get the height of the image\n",
    "img_width = data.shape[1]          # Get the width of the image\n",
    "img_channels = data.shape[2]       # Get the number of channels in the image\n",
    "labels = np.zeros((len(files_inputs), img_height, img_width, 2), dtype = bool)  # Shape: [num_files, H, W, 2]\n",
    "\n",
    "sys.stdout.flush()\n",
    "for ind, _ in tqdm(enumerate(files_inputs)):  # Progressively iterate through all the input files\n",
    "    mask = np.squeeze(io.imread(files_masks[ind])).astype(bool)  # Load and convert each mask to boolean\n",
    "    labels[ind, :, :, 0] = ~mask  # Background (inverse of mask)\n",
    "    labels[ind, :, :, 1] = mask   # Foreground (actual mask)"
   ]
  },
  {
   "cell_type": "markdown",
   "metadata": {},
   "source": [
    "**3. Image Processor**<br/>\n",
    "***3.1. [Image Resizing](https://scikit-image.org/docs/stable/api/skimage.transform.html#skimage.transform.resize)***<br/>\n",
    "- `Standardizing Image Dimensions:` Machine learning models, like CNNs, need input data with fixed dimensions. For instance, if a model requires images of size 224x224x3, all input images must be resized to that shape.<br/>\n",
    "- `Reducing Computational Load:`Resizing images to smaller dimensions lowers computational costs, particularly with large datasets, and aids in faster training or inference for deep learning models."
   ]
  },
  {
   "cell_type": "markdown",
   "metadata": {},
   "source": [
    "**Augmentation, Re_Color, & Im_Saving**<br/>"
   ]
  },
  {
   "cell_type": "code",
   "execution_count": 13,
   "metadata": {},
   "outputs": [],
   "source": [
    "import os\n",
    "import numpy as np  # Import NumPy for array manipulation\n",
    "from skimage import io, color, transform  # Import transform module for image resizing\n",
    "\n",
    "# ================================= Class for resizing & converting images ====================================\n",
    "class ImageProcessor:\n",
    "    \"\"\"\n",
    "    A class for processing image data, including resizing.\n",
    "    \"\"\"\n",
    "\n",
    "    # def __init__(self, img_data: np.ndarray):\n",
    "    def __init__(self):\n",
    "        \"\"\"\n",
    "        Initialize the ImageProcessor class.\n",
    "\n",
    "        :param img_data: A numpy array of shape [num_images, height, width, channels].\n",
    "        \"\"\"\n",
    "\n",
    "        self.img_gray = None\n",
    "        self.file_names = None\n",
    "        # self.img_data = img_data  # Store the input image data\n",
    "\n",
    "    # ---------------------------------------------- Resizes ---------------------------------------------------\n",
    "    def resize_images(self, img_height_resized: int, img_width_resized: int) -> np.ndarray:\n",
    "        \"\"\"\n",
    "        Resizes a batch of images to the specified height, width, and channels.\n",
    "\n",
    "        :param img_height_resized: Target height of the images after resizing.\n",
    "        :param img_width_resized: Target width of the images after resizing.\n",
    "        :return: A numpy array of resized images.\n",
    "        \"\"\"\n",
    "\n",
    "        # Check if the input is grayscale (3D) or colored (4D)\n",
    "        if self.img_data.ndim == 3:  # Grayscale images (no color channels)\n",
    "            img_channels = 1  # Grayscale implies 1 channel\n",
    "            # Initialize an array to store resized grayscale images\n",
    "            resized_imgs = np.zeros(\n",
    "                (self.img_data.shape[0], img_height_resized, img_width_resized),\n",
    "                dtype=np.uint8\n",
    "            )\n",
    "\n",
    "            # Loop through each grayscale image in the batch\n",
    "            for i in range(self.img_data.shape[0]):\n",
    "                # Resize the image to the target dimensions and store it\n",
    "                resized_imgs[i] = transform.resize(\n",
    "                    self.img_data[i],\n",
    "                    (img_height_resized, img_width_resized),\n",
    "                    preserve_range=True  # Preserve the range of pixel values\n",
    "                )\n",
    "\n",
    "        else:  # Colored images (4D array with channels)\n",
    "            img_channels = self.img_data.shape[-1]  # Get the number of color channels\n",
    "            # Initialize an array to store resized colored images\n",
    "            resized_imgs = np.zeros(\n",
    "                (self.img_data.shape[0], img_height_resized, img_width_resized, img_channels),\n",
    "                dtype=np.uint8\n",
    "            )\n",
    "\n",
    "            # Loop through each colored image in the batch\n",
    "            for i in range(self.img_data.shape[0]):\n",
    "                # Resize the image to the target dimensions and store it\n",
    "                resized_imgs[i] = transform.resize(\n",
    "                    self.img_data[i],\n",
    "                    (img_height_resized, img_width_resized, img_channels),\n",
    "                    preserve_range=True  # Preserve the range of pixel values\n",
    "                )\n",
    "\n",
    "        return resized_imgs  # Return the resized images\n",
    "    \n",
    "    # ---------------------------------------- RGB images to grayscale -----------------------------------------\n",
    "    def RGB2Gray(self, files_path: str) -> np.ndarray:\n",
    "        \n",
    "        # Get the full path and filenames of files in the folder (excluding subfolders)\n",
    "        files_with_paths = [os.path.join(files_path, f) for f in os.listdir(files_path) \n",
    "                    if os.path.isfile(os.path.join(files_path, f))]\n",
    "        \n",
    "        files_with_paths = [file for file in files_with_paths if os.path.splitext(file)[1].casefold() in \n",
    "                           ['.png', '.tif', '.jpg']]\n",
    "\n",
    "        # Separate file names from the paths\n",
    "        self.file_names = [os.path.basename(file) for file in files_with_paths]\n",
    "\n",
    "        img_num = len(files_with_paths)\n",
    "        img_height, img_width, _ = io.imread(files_with_paths[0]).shape\n",
    "        self.img_gray = np.zeros((img_num, img_height, img_width), dtype=np.uint8)\n",
    "\n",
    "        for i in range(img_num):\n",
    "            self.img_gray[i] = (color.rgb2gray(io.imread(files_with_paths[i])) * 255).astype(np.uint8) # scale back to [0, 255]\n",
    "            \n",
    "        return self.img_gray\n",
    "    \n",
    "    def save_img_gray(self, path_save):\n",
    "        os.makedirs(os.path.join(path_save, 'Gray image/'), exist_ok=True) # Ensure the temporary folder is created\n",
    "        for ind, filename in enumerate(self.file_names):\n",
    "            io.imsave(fname='{}{}'.format(path_save + 'Gray image/', filename), arr=self.img_gray[ind])\n",
    "        \n",
    "        print(Fore.GREEN + Back.BLACK + \"The images have been saved successfully.\")\n",
    "\n"
   ]
  },
  {
   "cell_type": "markdown",
   "metadata": {},
   "source": [
    "**3.1. Image Resizing**"
   ]
  },
  {
   "cell_type": "code",
   "execution_count": 14,
   "metadata": {},
   "outputs": [
    {
     "ename": "TypeError",
     "evalue": "ImageProcessor.__init__() takes 1 positional argument but 2 were given",
     "output_type": "error",
     "traceback": [
      "\u001b[1;31m---------------------------------------------------------------------------\u001b[0m",
      "\u001b[1;31mTypeError\u001b[0m                                 Traceback (most recent call last)",
      "Cell \u001b[1;32mIn[14], line 2\u001b[0m\n\u001b[0;32m      1\u001b[0m \u001b[38;5;66;03m# Create an instance of the ImageProcessor class with the input image array\u001b[39;00m\n\u001b[1;32m----> 2\u001b[0m img \u001b[38;5;241m=\u001b[39m \u001b[43mImageProcessor\u001b[49m\u001b[43m(\u001b[49m\u001b[43minputs_array\u001b[49m\u001b[43m)\u001b[49m  \u001b[38;5;66;03m# `inputs_array` is the original batch of images to process\u001b[39;00m\n\u001b[0;32m      4\u001b[0m \u001b[38;5;66;03m# Call the `resize_images` method to resize the images to the target dimensions (255x255)\u001b[39;00m\n\u001b[0;32m      5\u001b[0m resized_images \u001b[38;5;241m=\u001b[39m img\u001b[38;5;241m.\u001b[39mresize_images(img_height_resized\u001b[38;5;241m=\u001b[39m\u001b[38;5;241m255\u001b[39m, img_width_resized\u001b[38;5;241m=\u001b[39m\u001b[38;5;241m255\u001b[39m)  \u001b[38;5;66;03m# Resize all images to 255x255\u001b[39;00m\n",
      "\u001b[1;31mTypeError\u001b[0m: ImageProcessor.__init__() takes 1 positional argument but 2 were given"
     ]
    }
   ],
   "source": [
    "# Create an instance of the ImageProcessor class with the input image array\n",
    "img = ImageProcessor(inputs_array)  # `inputs_array` is the original batch of images to process\n",
    "\n",
    "# Call the `resize_images` method to resize the images to the target dimensions (255x255)\n",
    "resized_images = img.resize_images(img_height_resized=255, img_width_resized=255)  # Resize all images to 255x255\n",
    "\n",
    "# Print a message showing the original and resized image shapes for verification\n",
    "print(Fore.GREEN + Back.BLACK + f\"Resizing images from {inputs_array.shape} to {resized_images.shape}\")"
   ]
  },
  {
   "cell_type": "code",
   "execution_count": 10,
   "metadata": {},
   "outputs": [
    {
     "name": "stdout",
     "output_type": "stream",
     "text": [
      "\u001b[32m\u001b[40moutput_gray.shape = (51, 768, 896)\n"
     ]
    }
   ],
   "source": [
    "files_path = \"D:/Medical-Image-Processing/Data/Inputs/\"\n",
    "img = ImageProcessor()\n",
    "output_gray = img.RGB2Gray(files_path)\n",
    "print(Fore.GREEN + Back.BLACK + f\"{output_gray.shape = }\")"
   ]
  },
  {
   "cell_type": "code",
   "execution_count": 11,
   "metadata": {},
   "outputs": [
    {
     "name": "stdout",
     "output_type": "stream",
     "text": [
      "\u001b[32m\u001b[40mThe images have been saved successfully.\n"
     ]
    }
   ],
   "source": [
    "path_save = 'D:/Medical-Image-Processing/Data/'\n",
    "img.save_img_gray(path_save)"
   ]
  },
  {
   "cell_type": "code",
   "execution_count": null,
   "metadata": {},
   "outputs": [
    {
     "name": "stdout",
     "output_type": "stream",
     "text": [
      "\u001b[32m\u001b[40mResizing images from (58, 768, 896, 3) to (58, 255, 255, 3)\n"
     ]
    }
   ],
   "source": []
  },
  {
   "cell_type": "code",
   "execution_count": 20,
   "metadata": {},
   "outputs": [
    {
     "name": "stdout",
     "output_type": "stream",
     "text": [
      "\u001b[32m\u001b[40mResizing images from (58, 768, 896) to (58, 255, 255)\n"
     ]
    }
   ],
   "source": [
    "# Create an instance of the ImageProcessor class with the mask image array\n",
    "img1 = ImageProcessor(masks_array)\n",
    "\n",
    "# Call the `resize_images` method to resize the images to the target dimensions (255x255)\n",
    "resized_images = img1.resize_images(img_height_resized=255, img_width_resized=255)\n",
    "print(Fore.GREEN + Back.BLACK + f\"Resizing images from {masks_array.shape} to {resized_images.shape}\") "
   ]
  },
  {
   "cell_type": "code",
   "execution_count": null,
   "metadata": {},
   "outputs": [],
   "source": [
    "import os\n",
    "import glob\n",
    "import shutil\n",
    "\n",
    "from skimage import transform, color  \n",
    "from tensorflow import keras\n",
    "\n",
    "#  ================================= Class for resizing & converting images ====================================\n",
    "class Image:\n",
    "    def __init__(self, img_data: np.ndarray):\n",
    "        \"\"\"\n",
    "        :param imgs: A numpy array of shape [num_images, height, width, channels].\n",
    "        \"\"\"\n",
    "        self.img_data = img_data\n",
    "        \n",
    "    \n",
    "   \n",
    "\n",
    "# ================================== Class for augmentation (rotation) =========================================\n",
    "class Augmentation:\n",
    "    def __init__(self, num_augmented_imag: int, imag_files_path: str, imag_augmented_path: str):\n",
    "        \"\"\"\n",
    "        Applies image augmentation (rotation) to images in the specified directory and saves them.\n",
    "\n",
    "        :param num_augmented_images: Number of augmented images to generate.\n",
    "        :param imag_files_path: Path to the directory containing the images.\n",
    "        :param imag_augmented_path: Path to the directory to save augmented images.\n",
    "        \"\"\"\n",
    "        \n",
    "        self.imag_files_path = imag_files_path\n",
    "        self.num_augmented_imag = num_augmented_imag\n",
    "        self.imag_augmented_path = imag_augmented_path\n",
    "        \n",
    "    def augmented_images(self) -> None:\n",
    "        \n",
    "        dat = io.imread(glob.glob(self.imag_files_path + '/*')[0])\n",
    "        self.imag_augmented_path = os.path.join(self.imag_augmented_path, 'Rotated/')\n",
    "        os.makedirs(self.imag_augmented_path, exist_ok=True)  # Ensure the temporary folder is created\n",
    "        # Create a temporary folder inside the original folder for processing\n",
    "        TEMP_DIR = os.path.join(self.imag_files_path, 'Temp/')\n",
    "        os.makedirs(TEMP_DIR, exist_ok=True)  # Ensure the temporary folder is created\n",
    "        \n",
    "        # Copy all files from the main folder to the temporary folder\n",
    "        for filename in os.listdir(self.imag_files_path):\n",
    "            if filename.casefold().endswith(('.tif', '.jpg', '.png')):  # Correct usage with a tuple\n",
    "                shutil.copy(os.path.join(self.imag_files_path, filename), os.path.join(TEMP_DIR, filename))\n",
    "\n",
    "        # Set up the ImageDataGenerator for image augmentation\n",
    "        Data_Gen = keras.preprocessing.image.ImageDataGenerator(rotation_range=30)  # Rotate images randomly up to 30 degrees\n",
    "        # Use flow_from_directory to process the images in the Temp folder\n",
    "        img_aug = Data_Gen.flow_from_directory(\n",
    "            self.imag_files_path,     # Parent directory of Temp\n",
    "            classes=['Temp'],         # Specify the subfolder 'Temp' as the target\n",
    "            batch_size=1,             # Process one image at a time\n",
    "            save_to_dir=self.imag_augmented_path,  # Save augmented images to the Rotated folder\n",
    "            save_prefix='Aug',        # Prefix for augmented images\n",
    "            target_size=(dat.shape[0], dat.shape[1]),  # Resize images to the specified dimensions\n",
    "            class_mode=None           # No labels, as we're working with unclassified images\n",
    "        )\n",
    "        \n",
    "        for _ in range(self.num_augmented_imag):  # Generate augmented images and save them\n",
    "            next(img_aug)  # Process the next image and save it\n",
    "\n",
    "        shutil.rmtree(TEMP_DIR)  # Delete the temporary folder and its contents after processing\n",
    "\n",
    "    # ---------------------------------------------- Plot ------------------------------------------------------\n",
    "    def plot_img_original_augment(self, num_img: int) -> None:\n",
    "        \n",
    "        _, axs = plt.subplots(nrows=2, ncols=num_img)\n",
    "        \n",
    "        # Check if num_img is 1 (special case for 1 image)\n",
    "        if num_img == 1:\n",
    "            # Display images on the first row\n",
    "            # io.imread(files_inputs[0])[:, :, :3].shape\n",
    "            axs[0].imshow(io.imread(glob.glob(self.imag_files_path + '/*')[0]), cmap='gray')\n",
    "            axs[0].tick_params(left=False, bottom=False, labelleft=False, labelbottom=False)  # Hide ticks\n",
    "            [spine.set_visible(False) for spine in axs[0].spines.values()]  # Hide all spines\n",
    "            axs[0].set_ylabel(\"Original Images\", fontsize=12, labelpad=10)  # Y-axis label for the first row\n",
    "            \n",
    "            # Display images on the second row\n",
    "            axs[1].imshow(io.imread(glob.glob(self.imag_augmented_path + '/*')[0]), cmap='gray')\n",
    "            axs[1].tick_params(left=False, bottom=False, labelleft=False, labelbottom=False)  # Hide ticks\n",
    "            [spine.set_visible(False) for spine in axs[1].spines.values()]  # Hide all spines\n",
    "            axs[1].set_ylabel(\"Augmented Images\", fontsize=12, labelpad=10)  # Y-axis label for the second row\n",
    "\n",
    "        else:\n",
    "            for i in range(num_img):\n",
    "                # Display images on the first row\n",
    "                axs[0, i].imshow(io.imread(glob.glob(self.imag_files_path + '/*')[i]), cmap='gray')\n",
    "                axs[0, i].tick_params(left=False, bottom=False, labelleft=False, labelbottom=False)  # Hide ticks\n",
    "                [spine.set_visible(False) for spine in axs[0, i].spines.values()]  # Hide all spines\n",
    "\n",
    "                # Display images on the second row\n",
    "                axs[1, i].imshow(io.imread(glob.glob(self.imag_augmented_path + '/*')[i]), cmap='gray')\n",
    "                axs[1, i].tick_params(left=False, bottom=False, labelleft=False, labelbottom=False)  # Hide ticks\n",
    "                [spine.set_visible(False) for spine in axs[1, i].spines.values()]  # Hide all spines\n",
    "\n",
    "            # Add ylabel for each row (only set ylabel for the first column of each row)\n",
    "            axs[0, 0].set_ylabel(\"Original Images\", fontsize=12, labelpad=10)  # Y-axis label for the first row\n",
    "            axs[1, 0].set_ylabel(\"Augmented Images\", fontsize=12, labelpad=10)  # Y-axis label for the second row\n",
    "\n",
    "        # Adjust layout to make sure images and titles don't overlap\n",
    "        plt.tight_layout()\n",
    "\n",
    "        # Auto-scale to fit the images in the figure area\n",
    "        plt.autoscale(enable=True, axis='both', tight=True)\n",
    "        plt.show()\n",
    "\n"
   ]
  },
  {
   "cell_type": "code",
   "execution_count": 95,
   "metadata": {},
   "outputs": [
    {
     "name": "stdout",
     "output_type": "stream",
     "text": [
      "['D:/Medical-Image-Processing/Data/Inputs\\\\ytma12_010804_benign2_ccd.tif', 'D:/Medical-Image-Processing/Data/Inputs\\\\ytma12_010804_benign3_ccd.tif', 'D:/Medical-Image-Processing/Data/Inputs\\\\ytma12_010804_malignant1_ccd.tif', 'D:/Medical-Image-Processing/Data/Inputs\\\\ytma12_010804_malignant2_ccd.tif', 'D:/Medical-Image-Processing/Data/Inputs\\\\ytma12_010804_malignant3_ccd.tif', 'D:/Medical-Image-Processing/Data/Inputs\\\\ytma23_022103_benign1_ccd.tif', 'D:/Medical-Image-Processing/Data/Inputs\\\\ytma23_022103_benign2_ccd.tif', 'D:/Medical-Image-Processing/Data/Inputs\\\\ytma23_022103_benign3_ccd.tif', 'D:/Medical-Image-Processing/Data/Inputs\\\\ytma23_022103_malignant1_ccd.tif', 'D:/Medical-Image-Processing/Data/Inputs\\\\ytma23_022103_malignant2_ccd.tif', 'D:/Medical-Image-Processing/Data/Inputs\\\\ytma23_022103_malignant3_ccd.tif', 'D:/Medical-Image-Processing/Data/Inputs\\\\ytma49_042003_benign1_ccd.tif', 'D:/Medical-Image-Processing/Data/Inputs\\\\ytma49_042003_benign2_ccd.tif', 'D:/Medical-Image-Processing/Data/Inputs\\\\ytma49_042003_benign3_ccd.tif', 'D:/Medical-Image-Processing/Data/Inputs\\\\ytma49_042003_malignant1_ccd.tif', 'D:/Medical-Image-Processing/Data/Inputs\\\\ytma49_042003_malignant2_ccd.tif', 'D:/Medical-Image-Processing/Data/Inputs\\\\ytma49_042003_malignant3_ccd.tif', 'D:/Medical-Image-Processing/Data/Inputs\\\\ytma49_042203_benign1_ccd.tif', 'D:/Medical-Image-Processing/Data/Inputs\\\\ytma49_042203_benign2_ccd.tif', 'D:/Medical-Image-Processing/Data/Inputs\\\\ytma49_042203_benign3_ccd.tif', 'D:/Medical-Image-Processing/Data/Inputs\\\\ytma49_042203_malignant1_ccd.tif', 'D:/Medical-Image-Processing/Data/Inputs\\\\ytma49_042203_malignant2_ccd.tif', 'D:/Medical-Image-Processing/Data/Inputs\\\\ytma49_042203_malignant3_ccd.tif', 'D:/Medical-Image-Processing/Data/Inputs\\\\ytma49_042403_benign1_ccd.tif', 'D:/Medical-Image-Processing/Data/Inputs\\\\ytma49_042403_benign2_ccd.tif', 'D:/Medical-Image-Processing/Data/Inputs\\\\ytma49_042403_benign3_ccd.tif', 'D:/Medical-Image-Processing/Data/Inputs\\\\ytma49_042403_malignant1_ccd.tif', 'D:/Medical-Image-Processing/Data/Inputs\\\\ytma49_042403_malignant2_ccd.tif', 'D:/Medical-Image-Processing/Data/Inputs\\\\ytma49_042403_malignant3_ccd.tif', 'D:/Medical-Image-Processing/Data/Inputs\\\\ytma49_072303_benign1_ccd.tif', 'D:/Medical-Image-Processing/Data/Inputs\\\\ytma49_072303_benign2_ccd.tif', 'D:/Medical-Image-Processing/Data/Inputs\\\\ytma49_072303_malignant1_ccd.tif', 'D:/Medical-Image-Processing/Data/Inputs\\\\ytma49_072303_malignant2_ccd.tif', 'D:/Medical-Image-Processing/Data/Inputs\\\\ytma49_111003_benign1_ccd.tif', 'D:/Medical-Image-Processing/Data/Inputs\\\\ytma49_111003_benign2_ccd.tif', 'D:/Medical-Image-Processing/Data/Inputs\\\\ytma49_111003_benign3_ccd.tif', 'D:/Medical-Image-Processing/Data/Inputs\\\\ytma49_111003_malignant1_ccd.tif', 'D:/Medical-Image-Processing/Data/Inputs\\\\ytma49_111003_malignant2_ccd.tif', 'D:/Medical-Image-Processing/Data/Inputs\\\\ytma49_111003_malignant3_ccd.tif', 'D:/Medical-Image-Processing/Data/Inputs\\\\ytma49_111303_benign1_ccd.tif', 'D:/Medical-Image-Processing/Data/Inputs\\\\ytma49_111303_benign2_ccd.tif', 'D:/Medical-Image-Processing/Data/Inputs\\\\ytma49_111303_benign3_ccd.tif', 'D:/Medical-Image-Processing/Data/Inputs\\\\ytma49_111303_malignant1_ccd.tif', 'D:/Medical-Image-Processing/Data/Inputs\\\\ytma49_111303_malignant2_ccd.tif', 'D:/Medical-Image-Processing/Data/Inputs\\\\ytma49_111303_malignant3_ccd.tif', 'D:/Medical-Image-Processing/Data/Inputs\\\\ytma55_030603_benign1_ccd.tif', 'D:/Medical-Image-Processing/Data/Inputs\\\\ytma55_030603_benign2_ccd.tif', 'D:/Medical-Image-Processing/Data/Inputs\\\\ytma55_030603_benign3_ccd.tif', 'D:/Medical-Image-Processing/Data/Inputs\\\\ytma55_030603_benign4_ccd.tif', 'D:/Medical-Image-Processing/Data/Inputs\\\\ytma55_030603_benign5_ccd.tif', 'D:/Medical-Image-Processing/Data/Inputs\\\\ytma55_030603_benign6_ccd.tif']\n"
     ]
    }
   ],
   "source": [
    "import os\n",
    "\n",
    "# Define the folder path\n",
    "files_path = \"D:/Medical-Image-Processing/Data/Inputs\"\n",
    "\n",
    "# Get the full path and filenames of files in the folder (excluding subfolders)\n",
    "files_with_paths = [os.path.join(folder_path, f) for f in os.listdir(folder_path) \n",
    "                    if os.path.isfile(os.path.join(folder_path, f))]\n",
    "\n",
    "print(files_with_paths)"
   ]
  },
  {
   "cell_type": "code",
   "execution_count": null,
   "metadata": {},
   "outputs": [
    {
     "name": "stdout",
     "output_type": "stream",
     "text": [
      "1 --> ytma12_010804_benign2_ccd.tif\n",
      "2 --> ytma12_010804_benign3_ccd.tif\n",
      "3 --> ytma12_010804_malignant1_ccd.tif\n",
      "4 --> ytma12_010804_malignant2_ccd.tif\n",
      "5 --> ytma12_010804_malignant3_ccd.tif\n",
      "6 --> ytma23_022103_benign1_ccd.tif\n",
      "7 --> ytma23_022103_benign2_ccd.tif\n",
      "8 --> ytma23_022103_benign3_ccd.tif\n",
      "9 --> ytma23_022103_malignant1_ccd.tif\n",
      "10 --> ytma23_022103_malignant2_ccd.tif\n",
      "11 --> ytma23_022103_malignant3_ccd.tif\n",
      "12 --> ytma49_042003_benign1_ccd.tif\n",
      "13 --> ytma49_042003_benign2_ccd.tif\n",
      "14 --> ytma49_042003_benign3_ccd.tif\n",
      "15 --> ytma49_042003_malignant1_ccd.tif\n",
      "16 --> ytma49_042003_malignant2_ccd.tif\n",
      "17 --> ytma49_042003_malignant3_ccd.tif\n",
      "18 --> ytma49_042203_benign1_ccd.tif\n",
      "19 --> ytma49_042203_benign2_ccd.tif\n",
      "20 --> ytma49_042203_benign3_ccd.tif\n",
      "21 --> ytma49_042203_malignant1_ccd.tif\n",
      "22 --> ytma49_042203_malignant2_ccd.tif\n",
      "23 --> ytma49_042203_malignant3_ccd.tif\n",
      "24 --> ytma49_042403_benign1_ccd.tif\n",
      "25 --> ytma49_042403_benign2_ccd.tif\n",
      "26 --> ytma49_042403_benign3_ccd.tif\n",
      "27 --> ytma49_042403_malignant1_ccd.tif\n",
      "28 --> ytma49_042403_malignant2_ccd.tif\n",
      "29 --> ytma49_042403_malignant3_ccd.tif\n",
      "30 --> ytma49_072303_benign1_ccd.tif\n",
      "31 --> ytma49_072303_benign2_ccd.tif\n",
      "32 --> ytma49_072303_malignant1_ccd.tif\n",
      "33 --> ytma49_072303_malignant2_ccd.tif\n",
      "34 --> ytma49_111003_benign1_ccd.tif\n",
      "35 --> ytma49_111003_benign2_ccd.tif\n",
      "36 --> ytma49_111003_benign3_ccd.tif\n",
      "37 --> ytma49_111003_malignant1_ccd.tif\n",
      "38 --> ytma49_111003_malignant2_ccd.tif\n",
      "39 --> ytma49_111003_malignant3_ccd.tif\n",
      "40 --> ytma49_111303_benign1_ccd.tif\n",
      "41 --> ytma49_111303_benign2_ccd.tif\n",
      "42 --> ytma49_111303_benign3_ccd.tif\n",
      "43 --> ytma49_111303_malignant1_ccd.tif\n",
      "44 --> ytma49_111303_malignant2_ccd.tif\n",
      "45 --> ytma49_111303_malignant3_ccd.tif\n",
      "46 --> ytma55_030603_benign1_ccd.tif\n",
      "47 --> ytma55_030603_benign2_ccd.tif\n",
      "48 --> ytma55_030603_benign3_ccd.tif\n",
      "49 --> ytma55_030603_benign4_ccd.tif\n",
      "50 --> ytma55_030603_benign5_ccd.tif\n",
      "51 --> ytma55_030603_benign6_ccd.tif\n"
     ]
    }
   ],
   "source": []
  },
  {
   "cell_type": "code",
   "execution_count": null,
   "metadata": {},
   "outputs": [],
   "source": [
    "\n",
    "New = 'D:/Python/Breast/'\n",
    "\n",
    "def Pre_Process_Im_Saving(Path_Images, Path_Output, Tensor):\n",
    "    \n",
    "    for i, filename in enumerate(os.listdir(Path_Images)):\n",
    "        \n",
    "        imsave(fname='{}{}'.format(Path_Output, filename),\n",
    "               arr=Tensor[i])\n",
    "        \n",
    "        print('{}: {}'.format(i, filename))\n",
    "    \n",
    "Pre_Process_Im_Saving(IMAGE_PATH, New, Gray_Scale)"
   ]
  },
  {
   "cell_type": "code",
   "execution_count": 63,
   "metadata": {},
   "outputs": [
    {
     "data": {
      "text/plain": [
       "(58, 768, 896)"
      ]
     },
     "execution_count": 63,
     "metadata": {},
     "output_type": "execute_result"
    }
   ],
   "source": [
    "a = img.rgb2gray_scale()\n",
    "a.shape"
   ]
  },
  {
   "cell_type": "code",
   "execution_count": 60,
   "metadata": {},
   "outputs": [
    {
     "name": "stdout",
     "output_type": "stream",
     "text": [
      "Found 2 images belonging to 1 classes.\n"
     ]
    }
   ],
   "source": [
    "num_augmented_imag = 3\n",
    "# Path to the folder containing the original images\n",
    "imag_files_path = 'D:/Medical-Image-Processing/Data/Inputs/A/B/C/'\n",
    "\n",
    "# Path where augmented images will be saved\n",
    "imag_augmented_path = 'D:/Medical-Image-Processing/Data/'\n",
    "augm = Augmentation(num_augmented_imag, imag_files_path, imag_augmented_path)\n",
    "augm.augmented_images()\n",
    "# resizer.augmented_images(num_augmented_imag, imag_files_path, imag_augmented_path)"
   ]
  },
  {
   "cell_type": "code",
   "execution_count": null,
   "metadata": {},
   "outputs": [],
   "source": [
    "augm.plot_img_original_augment(num_img=2)"
   ]
  },
  {
   "cell_type": "code",
   "execution_count": 20,
   "metadata": {},
   "outputs": [
    {
     "data": {
      "text/plain": [
       "768"
      ]
     },
     "execution_count": 20,
     "metadata": {},
     "output_type": "execute_result"
    }
   ],
   "source": [
    "dat = io.imread(glob.glob(imag_files_path + '/*')[0])\n",
    "dat.shape[0]"
   ]
  }
 ],
 "metadata": {
  "kernelspec": {
   "display_name": "Python 3",
   "language": "python",
   "name": "python3"
  },
  "language_info": {
   "codemirror_mode": {
    "name": "ipython",
    "version": 3
   },
   "file_extension": ".py",
   "mimetype": "text/x-python",
   "name": "python",
   "nbconvert_exporter": "python",
   "pygments_lexer": "ipython3",
   "version": "3.12.4"
  }
 },
 "nbformat": 4,
 "nbformat_minor": 2
}
