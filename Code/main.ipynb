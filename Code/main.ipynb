{
 "cells": [
  {
   "cell_type": "markdown",
   "metadata": {},
   "source": [
    "***Welcome to Medical image processing in Python***<br/>\n",
    "\n",
    "Presented by: Reza Saadatyar (2024-2025) <br/>\n",
    "E-mail: Reza.Saadatyar@outlook.com "
   ]
  },
  {
   "cell_type": "markdown",
   "metadata": {},
   "source": [
    "**Import the require library**"
   ]
  },
  {
   "cell_type": "code",
   "execution_count": 1,
   "metadata": {},
   "outputs": [],
   "source": [
    "import os\n",
    "import sys\n",
    "import glob\n",
    "import random\n",
    "import numpy as np\n",
    "from tqdm import tqdm\n",
    "from PIL import Image\n",
    "from Functions import Data_path\n",
    "import matplotlib.pyplot as plt\n",
    "from keras import preprocessing\n",
    "from skimage import transform\n",
    "from skimage import io\n",
    "# from skimage.viewer import ImageViewer\n",
    "# from OOP import Pre_Processing_R2g\n",
    "from Functions import image_resizer"
   ]
  },
  {
   "cell_type": "markdown",
   "metadata": {},
   "source": [
    "**1. Set Image Path & Load data**"
   ]
  },
  {
   "cell_type": "code",
   "execution_count": 2,
   "metadata": {},
   "outputs": [],
   "source": [
    "folder_path = \"D:/Medical-Image-Processing/Data/Inputs/\"\n",
    "files_inputs, _, _ = Data_path.data_path(folder_path, data_format=\"tif\")\n",
    "\n",
    "folder_path = \"D:/Medical-Image-Processing/Data/Masks/\"\n",
    "files_masks, _, _ = Data_path.data_path(folder_path, data_format=\"TIF\")"
   ]
  },
  {
   "cell_type": "markdown",
   "metadata": {},
   "source": [
    "*Image-Width: n*<br/>\n",
    "*Image-Height: m*<br/>\n",
    "*Channels: c*<br/>\n",
    "*Planes: p*<br/>\n",
    "*Grayscale: (p, m, n)*<br/>\n",
    "*RGB: (p, m, n, c)*<br/>"
   ]
  },
  {
   "cell_type": "code",
   "execution_count": 3,
   "metadata": {},
   "outputs": [],
   "source": [
    "data = io.imread(files_inputs[0])   # Load a file for obtaing size data\n",
    "img_height = data.shape[0]\n",
    "img_width = data.shape[1]\n",
    "img_channels = data.shape[2]\n",
    "inputs = np.zeros((len(files_inputs), img_height, img_width, img_channels), dtype = np.uint8) # 58*768*896*3\n",
    "labels = np.zeros((len(files_inputs), img_height, img_width, 2), dtype = bool)                    # 58*768*896*2"
   ]
  },
  {
   "cell_type": "code",
   "execution_count": 4,
   "metadata": {},
   "outputs": [
    {
     "name": "stderr",
     "output_type": "stream",
     "text": [
      "58it [00:01, 34.58it/s]\n"
     ]
    }
   ],
   "source": [
    "sys.stdout.flush()\n",
    "for ind, _ in tqdm(enumerate(files_inputs)):\n",
    "    inputs[ind] = io.imread(files_inputs[ind])[:, :, :3]\n",
    "    mask = np.squeeze(io.imread(files_masks[ind])).astype(bool)\n",
    "    labels[ind, :, :, 0] = ~mask\n",
    "    labels[ind, :, :, 1] = mask"
   ]
  },
  {
   "cell_type": "markdown",
   "metadata": {},
   "source": [
    "**[Image Resizing](https://scikit-image.org/docs/stable/api/skimage.transform.html#skimage.transform.resize)**<br/>\n",
    "`Standardizing Image Dimensions:`\n",
    "Reason: Machine learning models, like CNNs, need input data with fixed dimensions. For instance, if a model requires images of size 224x224x3, all input images must be resized to that shape.<br/>\n",
    "`Reducing Computational Load:`Resizing images to smaller dimensions lowers computational costs, particularly with large datasets, and aids in faster training or inference for deep learning models."
   ]
  },
  {
   "cell_type": "code",
   "execution_count": 9,
   "metadata": {},
   "outputs": [
    {
     "name": "stdout",
     "output_type": "stream",
     "text": [
      "Resizing images from (58, 768, 896, 3) to (58, 255, 255, 3)\n"
     ]
    }
   ],
   "source": [
    "# Create the resizer instance\n",
    "resizer = image_resizer.ImageResizer(img_height_resized=255, img_width_resized=255, img_channels=3)\n",
    "\n",
    "# Resizing the images\n",
    "resized_images = resizer.resize_images(inputs)\n",
    "print(f\"Resizing images from {inputs.shape} to {resized_images.shape}\") "
   ]
  },
  {
   "cell_type": "markdown",
   "metadata": {},
   "source": [
    "**Augmentation, Re_Color, & Im_Saving**<br/>"
   ]
  }
 ],
 "metadata": {
  "kernelspec": {
   "display_name": "Python 3",
   "language": "python",
   "name": "python3"
  },
  "language_info": {
   "codemirror_mode": {
    "name": "ipython",
    "version": 3
   },
   "file_extension": ".py",
   "mimetype": "text/x-python",
   "name": "python",
   "nbconvert_exporter": "python",
   "pygments_lexer": "ipython3",
   "version": "3.12.4"
  }
 },
 "nbformat": 4,
 "nbformat_minor": 2
}
