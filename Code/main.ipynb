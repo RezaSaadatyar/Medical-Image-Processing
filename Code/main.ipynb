{
 "cells": [
  {
   "cell_type": "markdown",
   "metadata": {},
   "source": [
    "***Welcome to Medical image processing in Python***<br/>\n",
    "\n",
    "Presented by: Reza Saadatyar (2024-2025) <br/>\n",
    "E-mail: Reza.Saadatyar@outlook.com "
   ]
  },
  {
   "cell_type": "markdown",
   "metadata": {},
   "source": [
    "**Import the require library**"
   ]
  },
  {
   "cell_type": "code",
   "execution_count": 1,
   "metadata": {},
   "outputs": [],
   "source": [
    "import sys\n",
    "import numpy as np\n",
    "from tqdm import tqdm\n",
    "from PIL import Image\n",
    "import matplotlib.pyplot as plt\n",
    "from colorama import Back, Fore\n",
    "\n",
    "# from skimage.viewer import ImageViewer\n",
    "# from OOP import Pre_Processing_R2g\n",
    "# from Functions import image_resizer"
   ]
  },
  {
   "cell_type": "markdown",
   "metadata": {},
   "source": [
    "**1. Set Image Path & Load data**"
   ]
  },
  {
   "cell_type": "code",
   "execution_count": 7,
   "metadata": {},
   "outputs": [],
   "source": [
    "import os\n",
    "from itertools import chain\n",
    "\n",
    "class DirectoryReader:\n",
    "    \"\"\"\n",
    "    A class for reading and processing files in a directory with a specific format.\n",
    "    \"\"\"\n",
    "    def __init__(self, directory_path: str, format_type: str) -> None:\n",
    "        \"\"\"\n",
    "        Initialize the DirectoryReader with a directory path and file format.\n",
    "\n",
    "        :param directory_path: Path to the directory to scan for files.\n",
    "        :param format_type: File format (extension) to filter files, e.g., \".tif\".\n",
    "        \"\"\"        \n",
    "        self.files: list[str] = [] # Stores the names of all files matching the specified format.\n",
    "        self.full_path: list[str] = [] # Stores the full paths of all matching files.\n",
    "        self.folder_path: list[str] = [] # Stores the unique folder paths containing the files.\n",
    "        self.subfolder: list[list[str]] = [] # Stores the names of subfolders for each directory.\n",
    "        self.format_type: str = format_type # Stores the file format to filter (e.g., \".tif\").\n",
    "        self.directory_path: str = directory_path # Stores the root directory path to scan.\n",
    "        self._scan_directory()  # Perform the directory scanning process.\n",
    "\n",
    "    def _scan_directory(self) -> None:\n",
    "        for root, subfolder_name, files_name in os.walk(self.directory_path):  # Traverse the directory tree\n",
    "            root = root.replace(\"\\\\\", \"/\")  # Replace backslashes with forward slashes for cross-platform compatibility\n",
    "\n",
    "            for file in files_name:\n",
    "                if file.endswith(self.format_type):  # Check if the file ends with the specified format\n",
    "                    self.files.append(file)  # Append the file name to the files list\n",
    "\n",
    "                    if root not in self.folder_path:  # Check if the root folder is not already in the folder_paths list\n",
    "                        self.folder_path.append(root)  # If not, append the root folder to the folder_paths list\n",
    "\n",
    "                    self.full_path.append(os.path.join(root, file).replace(\"\\\\\", \"/\"))  # Append the full file path\n",
    "\n",
    "                    # Ensure subfolder names are unique and non-empty\n",
    "                    if subfolder_name not in self.subfolder and subfolder_name != []:\n",
    "                        self.subfolder.append(subfolder_name)  # Append subfolder names to subfolders list\n",
    "\n",
    "    @property\n",
    "    def all_file_paths(self) -> list[str]:\n",
    "        \"\"\"\n",
    "        Retrieve all full file paths for files with the specified format.\n",
    "\n",
    "        :return: List of full file paths.\n",
    "        \"\"\"\n",
    "        return self.full_path\n",
    "\n",
    "    @property\n",
    "    def filenames(self) -> list[str]:\n",
    "        \"\"\"\n",
    "        Retrieve the list of filenames.\n",
    "\n",
    "        :return: List of filenames.\n",
    "        \"\"\"\n",
    "        return self.files\n",
    "\n",
    "    @property\n",
    "    def folder_paths(self) -> list[str]:\n",
    "        \"\"\"\n",
    "        Retrieve the list of folder paths containing the files.\n",
    "\n",
    "        :return: List of folder paths.\n",
    "        \"\"\"\n",
    "        return self.folder_path\n",
    "\n",
    "    @property\n",
    "    def subfoldernames(self) -> list[str]:\n",
    "        \"\"\"\n",
    "        Retrieve a flattened list of subfolder names.\n",
    "\n",
    "        :return: Flattened list of subfolder names.\n",
    "        \"\"\"\n",
    "        return list(chain.from_iterable(self.subfolder))"
   ]
  },
  {
   "cell_type": "code",
   "execution_count": 8,
   "metadata": {},
   "outputs": [
    {
     "name": "stdout",
     "output_type": "stream",
     "text": [
      "\u001b[32mpath__with_file = ['D:/Medical-Image-Processing/Data/Inputs/ytma12_010804_benign2_ccd.tif', 'D:/Medical-Image-Processing/Data/Inputs/ytma12_010804_benign3_ccd.tif', 'D:/Medical-Image-Processing/Data/Inputs/ytma12_010804_malignant1_ccd.tif', 'D:/Medical-Image-Processing/Data/Inputs/ytma12_010804_malignant2_ccd.tif', 'D:/Medical-Image-Processing/Data/Inputs/ytma12_010804_malignant3_ccd.tif', 'D:/Medical-Image-Processing/Data/Inputs/ytma23_022103_benign1_ccd.tif', 'D:/Medical-Image-Processing/Data/Inputs/ytma23_022103_benign2_ccd.tif', 'D:/Medical-Image-Processing/Data/Inputs/ytma23_022103_benign3_ccd.tif', 'D:/Medical-Image-Processing/Data/Inputs/ytma23_022103_malignant1_ccd.tif', 'D:/Medical-Image-Processing/Data/Inputs/ytma23_022103_malignant2_ccd.tif', 'D:/Medical-Image-Processing/Data/Inputs/ytma23_022103_malignant3_ccd.tif', 'D:/Medical-Image-Processing/Data/Inputs/ytma49_042003_benign1_ccd.tif', 'D:/Medical-Image-Processing/Data/Inputs/ytma49_042003_benign2_ccd.tif', 'D:/Medical-Image-Processing/Data/Inputs/ytma49_042003_benign3_ccd.tif', 'D:/Medical-Image-Processing/Data/Inputs/ytma49_042003_malignant1_ccd.tif', 'D:/Medical-Image-Processing/Data/Inputs/ytma49_042003_malignant2_ccd.tif', 'D:/Medical-Image-Processing/Data/Inputs/ytma49_042003_malignant3_ccd.tif', 'D:/Medical-Image-Processing/Data/Inputs/ytma49_042203_benign1_ccd.tif', 'D:/Medical-Image-Processing/Data/Inputs/ytma49_042203_benign2_ccd.tif', 'D:/Medical-Image-Processing/Data/Inputs/ytma49_042203_benign3_ccd.tif', 'D:/Medical-Image-Processing/Data/Inputs/ytma49_042203_malignant1_ccd.tif', 'D:/Medical-Image-Processing/Data/Inputs/ytma49_042203_malignant2_ccd.tif', 'D:/Medical-Image-Processing/Data/Inputs/ytma49_042203_malignant3_ccd.tif', 'D:/Medical-Image-Processing/Data/Inputs/ytma49_042403_benign1_ccd.tif', 'D:/Medical-Image-Processing/Data/Inputs/ytma49_042403_benign2_ccd.tif', 'D:/Medical-Image-Processing/Data/Inputs/ytma49_042403_benign3_ccd.tif', 'D:/Medical-Image-Processing/Data/Inputs/ytma49_042403_malignant1_ccd.tif', 'D:/Medical-Image-Processing/Data/Inputs/ytma49_042403_malignant2_ccd.tif', 'D:/Medical-Image-Processing/Data/Inputs/ytma49_042403_malignant3_ccd.tif', 'D:/Medical-Image-Processing/Data/Inputs/ytma49_072303_benign1_ccd.tif', 'D:/Medical-Image-Processing/Data/Inputs/ytma49_072303_benign2_ccd.tif', 'D:/Medical-Image-Processing/Data/Inputs/ytma49_072303_malignant1_ccd.tif', 'D:/Medical-Image-Processing/Data/Inputs/ytma49_072303_malignant2_ccd.tif', 'D:/Medical-Image-Processing/Data/Inputs/ytma49_111003_benign1_ccd.tif', 'D:/Medical-Image-Processing/Data/Inputs/ytma49_111003_benign2_ccd.tif', 'D:/Medical-Image-Processing/Data/Inputs/ytma49_111003_benign3_ccd.tif', 'D:/Medical-Image-Processing/Data/Inputs/ytma49_111003_malignant1_ccd.tif', 'D:/Medical-Image-Processing/Data/Inputs/ytma49_111003_malignant2_ccd.tif', 'D:/Medical-Image-Processing/Data/Inputs/ytma49_111003_malignant3_ccd.tif', 'D:/Medical-Image-Processing/Data/Inputs/ytma49_111303_benign1_ccd.tif', 'D:/Medical-Image-Processing/Data/Inputs/ytma49_111303_benign2_ccd.tif', 'D:/Medical-Image-Processing/Data/Inputs/ytma49_111303_benign3_ccd.tif', 'D:/Medical-Image-Processing/Data/Inputs/ytma49_111303_malignant1_ccd.tif', 'D:/Medical-Image-Processing/Data/Inputs/ytma49_111303_malignant2_ccd.tif', 'D:/Medical-Image-Processing/Data/Inputs/ytma49_111303_malignant3_ccd.tif', 'D:/Medical-Image-Processing/Data/Inputs/ytma55_030603_benign1_ccd.tif', 'D:/Medical-Image-Processing/Data/Inputs/ytma55_030603_benign2_ccd.tif', 'D:/Medical-Image-Processing/Data/Inputs/ytma55_030603_benign3_ccd.tif', 'D:/Medical-Image-Processing/Data/Inputs/ytma55_030603_benign4_ccd.tif', 'D:/Medical-Image-Processing/Data/Inputs/ytma55_030603_benign5_ccd.tif', 'D:/Medical-Image-Processing/Data/Inputs/ytma55_030603_benign6_ccd.tif', 'D:/Medical-Image-Processing/Data/Inputs/A/ytma10_010704_benign1_ccd.tif', 'D:/Medical-Image-Processing/Data/Inputs/A/ytma10_010704_benign2_ccd.tif', 'D:/Medical-Image-Processing/Data/Inputs/A/ytma12_010804_benign1_ccd.tif', 'D:/Medical-Image-Processing/Data/Inputs/A/B/ytma10_010704_malignant2_ccd.tif', 'D:/Medical-Image-Processing/Data/Inputs/A/B/ytma10_010704_malignant3_ccd.tif', 'D:/Medical-Image-Processing/Data/Inputs/A/B/C/ytma10_010704_benign3_ccd.tif', 'D:/Medical-Image-Processing/Data/Inputs/A/B/C/ytma10_010704_malignant1_ccd.tif']\n",
      "\u001b[34mfolder_paths = ['D:/Medical-Image-Processing/Data/Inputs', 'D:/Medical-Image-Processing/Data/Inputs/A', 'D:/Medical-Image-Processing/Data/Inputs/A/B', 'D:/Medical-Image-Processing/Data/Inputs/A/B/C']\n",
      "\u001b[35mfiles = ['ytma12_010804_benign2_ccd.tif', 'ytma12_010804_benign3_ccd.tif', 'ytma12_010804_malignant1_ccd.tif', 'ytma12_010804_malignant2_ccd.tif', 'ytma12_010804_malignant3_ccd.tif', 'ytma23_022103_benign1_ccd.tif', 'ytma23_022103_benign2_ccd.tif', 'ytma23_022103_benign3_ccd.tif', 'ytma23_022103_malignant1_ccd.tif', 'ytma23_022103_malignant2_ccd.tif', 'ytma23_022103_malignant3_ccd.tif', 'ytma49_042003_benign1_ccd.tif', 'ytma49_042003_benign2_ccd.tif', 'ytma49_042003_benign3_ccd.tif', 'ytma49_042003_malignant1_ccd.tif', 'ytma49_042003_malignant2_ccd.tif', 'ytma49_042003_malignant3_ccd.tif', 'ytma49_042203_benign1_ccd.tif', 'ytma49_042203_benign2_ccd.tif', 'ytma49_042203_benign3_ccd.tif', 'ytma49_042203_malignant1_ccd.tif', 'ytma49_042203_malignant2_ccd.tif', 'ytma49_042203_malignant3_ccd.tif', 'ytma49_042403_benign1_ccd.tif', 'ytma49_042403_benign2_ccd.tif', 'ytma49_042403_benign3_ccd.tif', 'ytma49_042403_malignant1_ccd.tif', 'ytma49_042403_malignant2_ccd.tif', 'ytma49_042403_malignant3_ccd.tif', 'ytma49_072303_benign1_ccd.tif', 'ytma49_072303_benign2_ccd.tif', 'ytma49_072303_malignant1_ccd.tif', 'ytma49_072303_malignant2_ccd.tif', 'ytma49_111003_benign1_ccd.tif', 'ytma49_111003_benign2_ccd.tif', 'ytma49_111003_benign3_ccd.tif', 'ytma49_111003_malignant1_ccd.tif', 'ytma49_111003_malignant2_ccd.tif', 'ytma49_111003_malignant3_ccd.tif', 'ytma49_111303_benign1_ccd.tif', 'ytma49_111303_benign2_ccd.tif', 'ytma49_111303_benign3_ccd.tif', 'ytma49_111303_malignant1_ccd.tif', 'ytma49_111303_malignant2_ccd.tif', 'ytma49_111303_malignant3_ccd.tif', 'ytma55_030603_benign1_ccd.tif', 'ytma55_030603_benign2_ccd.tif', 'ytma55_030603_benign3_ccd.tif', 'ytma55_030603_benign4_ccd.tif', 'ytma55_030603_benign5_ccd.tif', 'ytma55_030603_benign6_ccd.tif', 'ytma10_010704_benign1_ccd.tif', 'ytma10_010704_benign2_ccd.tif', 'ytma12_010804_benign1_ccd.tif', 'ytma10_010704_malignant2_ccd.tif', 'ytma10_010704_malignant3_ccd.tif', 'ytma10_010704_benign3_ccd.tif', 'ytma10_010704_malignant1_ccd.tif']\n",
      "\u001b[36msubfolders = ['A', 'B', 'C']\n"
     ]
    }
   ],
   "source": [
    "directory_path = \"D:/Medical-Image-Processing/Data/Inputs\"\n",
    "\n",
    "# Create an instance of DirectoryReader with the directory path and file format\n",
    "file_reader = DirectoryReader(directory_path, format_type=\"tif\")\n",
    "\n",
    "path__with_file = file_reader.all_file_paths  # Get the list of all file paths\n",
    "folder_paths = file_reader.folder_paths  # Get the list of folder paths containing the files\n",
    "files = file_reader.filenames  # Get the list of filenames\n",
    "subfolders = file_reader.subfoldernames  # Get the flattened list of subfolder names\n",
    "\n",
    "print(Fore.GREEN + f\"{path__with_file = }\"\"\\n\" + Fore.BLUE + f\"{folder_paths = }\"\"\\n\" + Fore.MAGENTA + f\"{files = }\"+\n",
    "      \"\\n\" + Fore.CYAN + f\"{subfolders = }\")"
   ]
  },
  {
   "cell_type": "markdown",
   "metadata": {},
   "source": [
    "*Image-Width: n*<br/>\n",
    "*Image-Height: m*<br/>\n",
    "*Channels: c*<br/>\n",
    "*Planes: p*<br/>\n",
    "*Grayscale: (p, m, n)*<br/>\n",
    "*RGB: (p, m, n, c)*<br/>"
   ]
  },
  {
   "cell_type": "markdown",
   "metadata": {},
   "source": [
    "**2. Convert the image into an array**"
   ]
  },
  {
   "cell_type": "code",
   "execution_count": 15,
   "metadata": {},
   "outputs": [],
   "source": [
    "import numpy as np  # Import numpy for array manipulation\n",
    "from skimage import io  # Import scikit-image library for image I/O operations\n",
    "from Functions import directory_reader\n",
    "\n",
    "class ImageLoader:\n",
    "    \"\"\"\n",
    "    A class to load and process images from a directory into a NumPy array.\n",
    "    \"\"\"\n",
    "\n",
    "    def __init__(self, directory_path: str, format_type: str) -> None:\n",
    "        \"\"\"\n",
    "        Initialize the ImageLoader class.\n",
    "\n",
    "        :param directory_path: Root directory containing the images.\n",
    "        :param format_type: File format (extension) of the images (e.g., \".tif\").\n",
    "        \"\"\"\n",
    "        self.images = None  # Placeholder for loaded image array\n",
    "        self.img_width = None  # Width of the images\n",
    "        self.img_height = None  # Height of the images\n",
    "        self.img_channels = None  # Number of color channels in the images\n",
    "        self.format_type: str = format_type  # File format to filter (e.g., \".tif\")\n",
    "        self.directory_path: str = directory_path  # Root directory path to scan\n",
    "\n",
    "    @property\n",
    "    def load_dataset(self) -> np.ndarray:\n",
    "        \"\"\"\n",
    "        Load images from the specified directory into a NumPy array.\n",
    "\n",
    "        :return: NumPy array containing the loaded images.\n",
    "        \"\"\"\n",
    "        # Initialize the DirectoryReader to get file paths\n",
    "        dir_reader = directory_reader.DirectoryReader(self.directory_path, self.format_type)\n",
    "        all_path = dir_reader.all_file_paths\n",
    "\n",
    "        if not all_path:\n",
    "            raise ValueError(\"No files found in the specified directory.\")\n",
    "\n",
    "        num_files = len(all_path)  # Total number of image files\n",
    "        first_image = io.imread(all_path[0])  # Load the first image to determine its dimensions\n",
    "\n",
    "        # Check if the image is grayscale or colored\n",
    "        if first_image.ndim == 2:  # Grayscale image\n",
    "            self.img_height, self.img_width = first_image.shape  # Get image dimensions\n",
    "            self.images = np.zeros(  # Initialize NumPy array for grayscale images\n",
    "                (num_files, self.img_height, self.img_width),\n",
    "                dtype=np.uint8  # Pixel values are stored as unsigned 8-bit integers\n",
    "            )\n",
    "        else:  # Colored image (e.g., RGB)\n",
    "            self.img_height, self.img_width, self.img_channels = first_image.shape  # Get image dimensions\n",
    "            self.images = np.zeros(  # Initialize NumPy array for colored images\n",
    "                (num_files, self.img_height, self.img_width, self.img_channels),\n",
    "                dtype=np.uint8\n",
    "            )\n",
    "\n",
    "        # Load all images into the NumPy array\n",
    "        for idx, file_path in enumerate(all_path):\n",
    "            self.images[idx] = io.imread(file_path)  # Read and store each image\n",
    "\n",
    "        return self.images  # Return the loaded images as a NumPy array"
   ]
  },
  {
   "cell_type": "markdown",
   "metadata": {},
   "source": [
    "**2.1. Convert the images in the \"Inputs\" folder to a NumPy array**"
   ]
  },
  {
   "cell_type": "code",
   "execution_count": 16,
   "metadata": {},
   "outputs": [
    {
     "name": "stdout",
     "output_type": "stream",
     "text": [
      "\u001b[32minputs_array.shape = (58, 768, 896, 3)\n"
     ]
    }
   ],
   "source": [
    "file_path = \"D:/Medical-Image-Processing/Data/Inputs/\"\n",
    "inputs = ImageLoader(file_path, format_type=\"tif\") # A class to load and process images from file paths into a NumPy array.\n",
    "inputs_array = inputs.load_dataset # Load images from the provided file paths into a NumPy array.\n",
    "print(Fore.GREEN + f\"{inputs_array.shape = }\") "
   ]
  },
  {
   "cell_type": "code",
   "execution_count": 17,
   "metadata": {},
   "outputs": [
    {
     "name": "stdout",
     "output_type": "stream",
     "text": [
      "\u001b[32mmasks_array.shape = (58, 768, 896)\n"
     ]
    }
   ],
   "source": [
    "file_path = \"D:/Medical-Image-Processing/Data/Masks/\"\n",
    "masks = ImageLoader(file_path, format_type=\"TIF\") # A class to load and process images from file paths into a NumPy array.\n",
    "masks_array = masks.load_dataset # Load images from the provided file paths into a NumPy array.\n",
    "print(Fore.GREEN + f\"{masks_array.shape = }\") "
   ]
  },
  {
   "cell_type": "markdown",
   "metadata": {},
   "source": [
    "**2.2. Convert the images in the \"Masks\" folder to boolean**"
   ]
  },
  {
   "cell_type": "code",
   "execution_count": 23,
   "metadata": {},
   "outputs": [
    {
     "name": "stderr",
     "output_type": "stream",
     "text": [
      "58it [00:00, 73.88it/s]\n"
     ]
    }
   ],
   "source": [
    "file_path = \"D:/Medical-Image-Processing/Data/Masks/\"\n",
    "dir_reader = directory_reader.DirectoryReader(file_path, format_type=\"TIF\")\n",
    "all_path = dir_reader.all_file_paths\n",
    "\n",
    "num_files = len(all_path)  # Total number of image files\n",
    "first_image = io.imread(all_path[0])  # Load the first image to determine its dimensions\n",
    "\n",
    "img_height = first_image.shape[0]         # Get the height of the image\n",
    "img_width = first_image.shape[1]          # Get the width of the image\n",
    "labels = np.zeros((len(all_path), img_height, img_width, 2), dtype = bool)  # Shape: [num_files, H, W, 2]\n",
    "\n",
    "sys.stdout.flush()\n",
    "for ind, val in tqdm(enumerate(all_path)):  # Progressively iterate through all the input files\n",
    "    mask = np.squeeze(io.imread(val)).astype(bool)  # Load and convert each mask to boolean\n",
    "    labels[ind, :, :, 0] = ~mask  # Background (inverse of mask)\n",
    "    labels[ind, :, :, 1] = mask   # Foreground (actual mask)"
   ]
  },
  {
   "cell_type": "markdown",
   "metadata": {},
   "source": [
    "**3. Image Processor**<br/>\n",
    "***3.1. [Image Resizing](https://scikit-image.org/docs/stable/api/skimage.transform.html#skimage.transform.resize)***<br/>\n",
    "- `Standardizing Image Dimensions:` Machine learning models, like CNNs, need input data with fixed dimensions. For instance, if a model requires images of size 224x224x3, all input images must be resized to that shape.<br/>\n",
    "- `Reducing Computational Load:`Resizing images to smaller dimensions lowers computational costs, particularly with large datasets, and aids in faster training or inference for deep learning models."
   ]
  },
  {
   "cell_type": "markdown",
   "metadata": {},
   "source": [
    "**Augmentation, Re_Color, & Im_Saving**<br/>"
   ]
  },
  {
   "cell_type": "code",
   "execution_count": 115,
   "metadata": {},
   "outputs": [],
   "source": [
    "import os\n",
    "import glob\n",
    "import shutil\n",
    "import numpy as np\n",
    "from tensorflow import keras\n",
    "from Functions import directory_reader\n",
    "from skimage import io, color, transform  # Import transform module for image resizing\n",
    "\n",
    "# ================================= Class for resizing & converting images ====================================\n",
    "class ImageProcessor:\n",
    "    \"\"\"\n",
    "    A class for processing image data, including resizing.\n",
    "    \"\"\"\n",
    "    def __init__(self):\n",
    "        \"\"\"\n",
    "        Initialize the ImageProcessor class.\n",
    "\n",
    "        :param img_data: A numpy array of shape [num_images, height, width, channels].\n",
    "        \"\"\"\n",
    "        self.img_gray = None  # Placeholder for grayscale images after processing\n",
    "        self.file_names = None  # Placeholder for image file names\n",
    "        self.file_path = None  # Placeholder for the path to the image files\n",
    "        self.augmente_path = None  # Placeholder for the path to store augmented images\n",
    "        \n",
    "    # ---------------------------------------------- Resizes ---------------------------------------------------\n",
    "    def resize_images(self, data: np.ndarray, img_height_resized: int, img_width_resized: int) -> np.ndarray:\n",
    "        \"\"\"\n",
    "        Resizes a batch of images to the specified height, width, and channels.\n",
    "\n",
    "        :param img_height_resized: Target height of the images after resizing.\n",
    "        :param img_width_resized: Target width of the images after resizing.\n",
    "        :return: A numpy array of resized images.\n",
    "        \"\"\"\n",
    "\n",
    "        # Check if the input is grayscale (3D) or colored (4D)\n",
    "        if data.ndim == 3:  # Grayscale images (no color channels)\n",
    "            img_channels = 1  # Grayscale implies 1 channel\n",
    "            # Initialize an array to store resized grayscale images\n",
    "            resized_imgs = np.zeros(\n",
    "                (data.shape[0], img_height_resized, img_width_resized),\n",
    "                dtype=np.uint8\n",
    "            )\n",
    "\n",
    "            # Loop through each grayscale image in the batch\n",
    "            for i in range(data.shape[0]):\n",
    "                # Resize the image to the target dimensions and store it\n",
    "                resized_imgs[i] = transform.resize(\n",
    "                    self.img_data[i], (img_height_resized, img_width_resized),\n",
    "                    preserve_range=True  # Preserve the range of pixel values\n",
    "                )\n",
    "\n",
    "        else:  # Colored images (4D array with channels)\n",
    "            img_channels = data.shape[-1]  # Get the number of color channels\n",
    "            # Initialize an array to store resized colored images\n",
    "            resized_imgs = np.zeros(\n",
    "                (data.shape[0], img_height_resized, img_width_resized, img_channels),\n",
    "                dtype=np.uint8\n",
    "            )\n",
    "\n",
    "            # Loop through each colored image in the batch\n",
    "            for i in range(data.shape[0]):\n",
    "                # Resize the image to the target dimensions and store it\n",
    "                resized_imgs[i] = transform.resize(\n",
    "                    data[i], (img_height_resized, img_width_resized, img_channels),\n",
    "                    preserve_range=True  # Preserve the range of pixel values\n",
    "                )\n",
    "\n",
    "        return resized_imgs  # Return the resized images\n",
    "    \n",
    "    # ---------------------------------------- RGB images to grayscale -----------------------------------------\n",
    "    def RGB2Gray(self, file_path: str, format_type: str) -> np.ndarray:\n",
    "        \"\"\"\n",
    "        Convert RGB images in the specified directory to grayscale.\n",
    "\n",
    "        :param file_path: Path to the directory containing image files.\n",
    "        :param format_type: File format (e.g., \".jpg\", \".png\") to filter images.\n",
    "        :return: A NumPy array containing grayscale images.\n",
    "        \"\"\"\n",
    "\n",
    "        # Initialize the DirectoryReader to get file paths\n",
    "        dir_reader = directory_reader.DirectoryReader(file_path, format_type)\n",
    "        all_path = dir_reader.all_file_paths # Retrieve all file paths in the specified format\n",
    "        self.file_names = dir_reader.filenames # Store filenames in the class attribute for further reference\n",
    "\n",
    "        if not all_path: # Raise an error if no files are found\n",
    "            raise ValueError(\"No files found in the specified directory.\")\n",
    "\n",
    "        img_num = len(all_path) # Get the total number of images\n",
    "\n",
    "        # Retrieve the dimensions of the first image to initialize the grayscale array\n",
    "        img_height, img_width, _ = io.imread(all_path[0]).shape\n",
    "\n",
    "        # Initialize a NumPy array to store grayscale images\n",
    "        self.img_gray = np.zeros((img_num, img_height, img_width), dtype=np.uint8)\n",
    "\n",
    "        for ind, val in enumerate(all_path): # Convert each image to grayscale\n",
    "            # Read the image, convert it to grayscale, scale back to [0, 255], and store it in the array\n",
    "            self.img_gray[ind] = (color.rgb2gray(io.imread(val)) * 255).astype(np.uint8)\n",
    "\n",
    "        return self.img_gray # Return the array of grayscale images\n",
    "    \n",
    "    # ------------------------------------------------- Save image ---------------------------------------------\n",
    "    def save_img_gray(self, path_save):\n",
    "        \"\"\"\n",
    "        Save grayscale images to a specified directory.\n",
    "\n",
    "        :param path_save: Path to the directory where the grayscale images will be saved.\n",
    "        \"\"\"\n",
    "\n",
    "        # Create a folder named 'Gray image/' inside the specified save path, if it doesn't already exist\n",
    "        os.makedirs(os.path.join(path_save, 'Gray image/'), exist_ok=True)\n",
    "\n",
    "        # Loop through each image and its corresponding filename\n",
    "        for ind, filename in enumerate(self.file_names):\n",
    "            # Save each grayscale image to the 'Gray image/' folder using its original filename\n",
    "            io.imsave(fname='{}{}'.format(path_save + 'Gray image/', filename), arr=self.img_gray[ind])\n",
    "\n",
    "        print(Fore.GREEN + \"The images have been saved successfully.\") # Print a success message to the console\n",
    "\n",
    "    #  ----------------------------------------------- Augmentation --------------------------------------------\n",
    "    def augmentation(self, file_path: str, augmente_path: str, num_augmented_imag: int, rotation_range: int,\n",
    "                     format_type: str) -> None:\n",
    "        \"\"\"\n",
    "        Applies image augmentation (rotation) to images in the specified directory and saves them.\n",
    "\n",
    "        :param file_path: Path to the directory containing the images.\n",
    "        :param augmente_path: Path to the directory to save augmented images.\n",
    "        :param num_augmented_imag: Number of augmented images to generate.\n",
    "        :param rotation_range: Degree range for random image rotation.\n",
    "        :param format_type: File format to filter images (e.g., \".jpg\", \".png\").\n",
    "        \"\"\"\n",
    "        self.file_path = file_path  # Store the input file path\n",
    "        self.augmente_path = augmente_path  # Store the augmented images save path\n",
    "        self.augmente_path = os.path.join(self.augmente_path, 'Rotated/')  # Create a subfolder for rotated images\n",
    "\n",
    "         # Check if the augmented images folder exists, delete it if so\n",
    "        if os.path.exists(self.augmente_path): shutil.rmtree(self.augmente_path)# Delete the folder and its contents\n",
    "        os.makedirs(self.augmente_path, exist_ok=True)  # Recreate the folder\n",
    "\n",
    "        # Create a temporary folder inside the input directory for processing\n",
    "        TEMP_DIR = os.path.join(self.file_path, 'Temp/')\n",
    "        if os.path.exists(TEMP_DIR): shutil.rmtree(TEMP_DIR)  # Delete the temporary folder if it exists\n",
    "        os.makedirs(TEMP_DIR, exist_ok=True)  # Recreate the temporary folder\n",
    "        \n",
    "        # Initialize the DirectoryReader to get file paths\n",
    "        dir_reader = directory_reader.DirectoryReader(self.file_path, format_type)\n",
    "        all_path = dir_reader.all_file_paths  # Get all file paths matching the format\n",
    "        file_names = dir_reader.filenames  # Get corresponding filenames\n",
    "        \n",
    "         # Raise an error if no files are found in the directory\n",
    "        if not all_path: raise ValueError(\"No files found in the specified directory.\")\n",
    "        \n",
    "        dat = io.imread(all_path[0])  # Read the first image to determine its dimensions\n",
    "\n",
    "        # Copy all files from the main folder to the temporary folder\n",
    "        for ind, val in enumerate(all_path):\n",
    "            shutil.copy(val, os.path.join(TEMP_DIR, file_names[ind]))\n",
    "\n",
    "        # Set up the ImageDataGenerator for image augmentation\n",
    "        Data_Gen = keras.preprocessing.image.ImageDataGenerator(rotation_range=rotation_range)\n",
    "        # Use flow_from_directory to process the images in the Temp folder\n",
    "        img_aug = Data_Gen.flow_from_directory(\n",
    "            self.file_path,     # Parent directory of Temp\n",
    "            classes=['Temp'],         # Specify the subfolder 'Temp' as the target\n",
    "            batch_size=1,             # Process one image at a time\n",
    "            save_to_dir=self.augmente_path,  # Save augmented images to the Rotated folder\n",
    "            save_prefix='Aug',        # Prefix for augmented images\n",
    "            target_size=(dat.shape[0], dat.shape[1]),  # Resize images to the specified dimensions\n",
    "            class_mode=None           # No labels, as we're working with unclassified images\n",
    "        )\n",
    "        \n",
    "        for _ in range(num_augmented_imag):  # Generate augmented images and save them\n",
    "            next(img_aug)  # Process the next image and save it\n",
    "\n",
    "        shutil.rmtree(TEMP_DIR)  # Delete the temporary folder and its contents after processing\n",
    "\n"
   ]
  },
  {
   "cell_type": "markdown",
   "metadata": {},
   "source": [
    "**3.1. Image Resizing**"
   ]
  },
  {
   "cell_type": "code",
   "execution_count": 116,
   "metadata": {},
   "outputs": [
    {
     "name": "stdout",
     "output_type": "stream",
     "text": [
      "\u001b[32mResizing images from (58, 768, 896, 3) to (58, 255, 255, 3)\n"
     ]
    }
   ],
   "source": [
    "img = ImageProcessor()   # Create an instance of the ImageProcessor class\n",
    "\n",
    "# Call the `resize_images` method to resize the images to the target dimensions (255x255)\n",
    "resized_images = img.resize_images(inputs_array, img_height_resized=255, img_width_resized=255)  # Resize all images to 255x255\n",
    "print(Fore.GREEN + f\"Resizing images from {inputs_array.shape} to {resized_images.shape}\")"
   ]
  },
  {
   "cell_type": "markdown",
   "metadata": {},
   "source": [
    "**3.2. Convert RGB into Gray**"
   ]
  },
  {
   "cell_type": "code",
   "execution_count": 117,
   "metadata": {},
   "outputs": [
    {
     "name": "stdout",
     "output_type": "stream",
     "text": [
      "\u001b[32moutput_gray.shape = (58, 768, 896)\n"
     ]
    }
   ],
   "source": [
    "file_path = \"D:/Medical-Image-Processing/Data/Inputs/\"\n",
    "img = ImageProcessor()\n",
    "output_gray = img.RGB2Gray(file_path, format_type=\"tif\")\n",
    "print(Fore.GREEN + f\"{output_gray.shape = }\")"
   ]
  },
  {
   "cell_type": "markdown",
   "metadata": {},
   "source": [
    "**3.3. Save images gray**"
   ]
  },
  {
   "cell_type": "code",
   "execution_count": 118,
   "metadata": {},
   "outputs": [
    {
     "name": "stdout",
     "output_type": "stream",
     "text": [
      "\u001b[32mThe images have been saved successfully.\n"
     ]
    }
   ],
   "source": [
    "path_save = 'D:/Medical-Image-Processing/Data/'\n",
    "img.save_img_gray(path_save)"
   ]
  },
  {
   "cell_type": "markdown",
   "metadata": {},
   "source": [
    "**3.4. Augmentation**"
   ]
  },
  {
   "cell_type": "code",
   "execution_count": 119,
   "metadata": {},
   "outputs": [
    {
     "name": "stdout",
     "output_type": "stream",
     "text": [
      "Found 58 images belonging to 1 classes.\n"
     ]
    }
   ],
   "source": [
    "rotation_range = 30\n",
    "num_augmented_imag = 3\n",
    "# Path to the folder containing the original images\n",
    "file_path = 'D:/Medical-Image-Processing/Data/Inputs/'\n",
    "\n",
    "# Path where augmented images will be saved\n",
    "augmente_path = 'D:/Medical-Image-Processing/Data/'\n",
    "img = ImageProcessor()\n",
    "img.augmentation(file_path, augmente_path, num_augmented_imag, rotation_range, format_type=\"tif\")"
   ]
  },
  {
   "cell_type": "code",
   "execution_count": null,
   "metadata": {},
   "outputs": [],
   "source": [
    "# def plot_img_original_augment(self, num_img: int) -> None:\n",
    "        \n",
    "#         _, axs = plt.subplots(nrows=2, ncols=num_img)\n",
    "#          # Check if num_img is 1 (special case for 1 image)\n",
    "#         if num_img == 1:\n",
    "#             # Display images on the first row\n",
    "#             # io.imread(files_inputs[0])[:, :, :3].shape\n",
    "#             axs[0].imshow(io.imread(glob.glob(self.file_path + '/*')[0]), cmap='gray')\n",
    "#             axs[0].tick_params(left=False, bottom=False, labelleft=False, labelbottom=False)  # Hide ticks\n",
    "#             [spine.set_visible(False) for spine in axs[0].spines.values()]  # Hide all spines\n",
    "#             axs[0].set_ylabel(\"Original Images\", fontsize=12, labelpad=10)  # Y-axis label for the first row\n",
    "            \n",
    "#             # Display images on the second row\n",
    "#             axs[1].imshow(io.imread(glob.glob(self.ugmente_path + '/*')[0]), cmap='gray')\n",
    "#             axs[1].tick_params(left=False, bottom=False, labelleft=False, labelbottom=False)  # Hide ticks\n",
    "#             [spine.set_visible(False) for spine in axs[1].spines.values()]  # Hide all spines\n",
    "            # axs[1].set_ylabel(\"Augmented Images\", fontsize=12, labelpad=10)  # Y-axis label for the second row\n",
    "\n",
    "    #     else:\n",
    "    #         for i in range(num_img):\n",
    "    #             # Display images on the first row\n",
    "    #             axs[0, i].imshow(io.imread(glob.glob(self.imag_files_path + '/*')[i]), cmap='gray')\n",
    "    #             axs[0, i].tick_params(left=False, bottom=False, labelleft=False, labelbottom=False)  # Hide ticks\n",
    "    #             [spine.set_visible(False) for spine in axs[0, i].spines.values()]  # Hide all spines\n",
    "\n",
    "    #             # Display images on the second row\n",
    "    #             axs[1, i].imshow(io.imread(glob.glob(self.imag_augmented_path + '/*')[i]), cmap='gray')\n",
    "    #             axs[1, i].tick_params(left=False, bottom=False, labelleft=False, labelbottom=False)  # Hide ticks\n",
    "    #             [spine.set_visible(False) for spine in axs[1, i].spines.values()]  # Hide all spines\n",
    "\n",
    "    #         # Add ylabel for each row (only set ylabel for the first column of each row)\n",
    "    #         axs[0, 0].set_ylabel(\"Original Images\", fontsize=12, labelpad=10)  # Y-axis label for the first row\n",
    "    #         axs[1, 0].set_ylabel(\"Augmented Images\", fontsize=12, labelpad=10)  # Y-axis label for the second row\n",
    "\n",
    "    #     # Adjust layout to make sure images and titles don't overlap\n",
    "    #     plt.tight_layout()\n",
    "\n",
    "    #     # Auto-scale to fit the images in the figure area\n",
    "    #     plt.autoscale(enable=True, axis='both', tight=True)\n",
    "    #     plt.show()\n",
    "        \n",
    "# from skimage import transform, color  \n"
   ]
  }
 ],
 "metadata": {
  "kernelspec": {
   "display_name": "Python 3",
   "language": "python",
   "name": "python3"
  },
  "language_info": {
   "codemirror_mode": {
    "name": "ipython",
    "version": 3
   },
   "file_extension": ".py",
   "mimetype": "text/x-python",
   "name": "python",
   "nbconvert_exporter": "python",
   "pygments_lexer": "ipython3",
   "version": "3.12.4"
  }
 },
 "nbformat": 4,
 "nbformat_minor": 2
}
